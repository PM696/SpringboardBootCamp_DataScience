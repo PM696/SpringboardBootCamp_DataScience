{
 "cells": [
  {
   "cell_type": "markdown",
   "id": "bf0c1fb2",
   "metadata": {},
   "source": [
    "# Step 3: Exploratory Data Analysis"
   ]
  },
  {
   "cell_type": "markdown",
   "id": "0559148f",
   "metadata": {},
   "source": [
    "## 1. Introduction"
   ]
  },
  {
   "cell_type": "markdown",
   "id": "e70a834a",
   "metadata": {},
   "source": [
    "   ***Project Goal:*** To develop a model that can predict the number of awards per 100 Full-Time Undergraduates with high accuracy."
   ]
  },
  {
   "cell_type": "markdown",
   "id": "899054e3",
   "metadata": {},
   "source": [
    "   ***Target Variable:*** awards_per_value: The number of awards per 100 full-time undergraduates."
   ]
  },
  {
   "cell_type": "markdown",
   "id": "0cc68d4d",
   "metadata": {},
   "source": [
    "   ***Features:***"
   ]
  },
  {
   "cell_type": "markdown",
   "id": "d4860e58",
   "metadata": {},
   "source": [
    "   - **chronname:** The name of the college or university.\n",
    "   - **city:** The city in which the college is located.\n",
    "   - **state:** The state in which the college is located.\n",
    "   - **control:** The type of college (public or private).\n",
    "   - **basic:** A flag indicating whether the college is a basic institution.\n",
    "   - **hbcu**: A flag indicating whether the college is a historically black college or university.\n",
    "   - **flagship:** A flag indicating whether the college is a flagship institution.\n",
    "   - **long_x:** The longitude of the college.\n",
    "   - **lat_y:** The latitude of the college.\n",
    "   - **site:** The website of the college.\n",
    "   - **student_count:** The number of students enrolled at the college.\n",
    "   - **awards_per_state_value:** The number of awards per 100 full-time undergraduates compared to the state average.\n",
    "   - **awards_per_natl_value:** The number of awards per 100 full-time undergraduates compared to the national average.\n",
    "   - **exp_award_value:** The amount of money spent per award.\n",
    "   - **exp_award_state_value:** The amount of money spent per award compared to the state average.\n",
    "   - **exp_award_natl_value:** The amount of money spent per award compared to the national average.\n",
    "   - **exp_award_percentile:** The percentile of the amount of money spent per award compared to other colleges.\n",
    "   - **ft_pct:** The percentage of full-time students.\n",
    "   - **fte_value:** The number of full-time equivalent students.\n",
    "   - **fte_percentile:** The percentile of the number of full-time equivalent students compared to other colleges.\n",
    "   - **med_sat_value:** Median SAT score among first time students.\n",
    "   - **med_sat_percentile:** The percentage of SAT scores\n",
    "   - **aid_value:** The average amount in financial aid.\n",
    "   - **aid_percentile:** The financial aid percentage.\n",
    "   - **endow_value:** The endowment values.\n",
    "   - **endow_percentile:** Percentage in endowment.\n",
    "   - **grad_100_value:** The number of students who graduated within 100% of normal time.\n",
    "   - **grad_100_percentile:** The percentage of students who graduated within 100% of normal time.\n",
    "   - **grad_150_value:** The number of students who graduated within 150% of normal time.\n",
    "   - **grad_150_percentile:** The percentage of students who graduated within 150% of normal time.\n",
    "   - **pell_value:** The amount of funds under Pell grant.\n",
    "   - **pell_percentile:** The percentage of Pell grant.\n",
    "   - **retain_value:** The number of students retained in the same institution.\n",
    "   - **retain_percentile:** The retention percentage.\n",
    "   - **similar:** A flag indicating whether the college is similar to other colleges in the dataset.\n",
    "   - **state_sector_ct:** The number of colleges in the same state and sector.\n",
    "   - **carnegie_ct:** The number of colleges in the same Carnegie classification.\n",
    "   - **counted_pct:** The percentage of students who are counted in the dataset.\n",
    "   - **cohort_size:** The size of the cohort."
   ]
  },
  {
   "cell_type": "markdown",
   "id": "1b560a26",
   "metadata": {},
   "source": [
    "## 2. Imported Packages and Libraries"
   ]
  },
  {
   "cell_type": "code",
   "execution_count": 1,
   "id": "1e0032fb",
   "metadata": {},
   "outputs": [],
   "source": [
    "import numpy as np\n",
    "import pandas as pd\n",
    "import matplotlib.pyplot as plt\n",
    "import seaborn as sns\n",
    "%matplotlib inline\n",
    "import missingno as msno"
   ]
  },
  {
   "cell_type": "markdown",
   "id": "8858e4a0",
   "metadata": {},
   "source": [
    "## 3. Load Data"
   ]
  },
  {
   "cell_type": "code",
   "execution_count": 2,
   "id": "61eb3c72",
   "metadata": {},
   "outputs": [],
   "source": [
    "data = pd.read_csv('collegedata.csv')"
   ]
  },
  {
   "cell_type": "code",
   "execution_count": 3,
   "id": "979b20e8",
   "metadata": {},
   "outputs": [
    {
     "data": {
      "text/plain": [
       "(3798, 44)"
      ]
     },
     "execution_count": 3,
     "metadata": {},
     "output_type": "execute_result"
    }
   ],
   "source": [
    "data.shape"
   ]
  },
  {
   "cell_type": "code",
   "execution_count": 6,
   "id": "52483bdd",
   "metadata": {},
   "outputs": [
    {
     "name": "stdout",
     "output_type": "stream",
     "text": [
      "<class 'pandas.core.frame.DataFrame'>\n",
      "RangeIndex: 3798 entries, 0 to 3797\n",
      "Data columns (total 44 columns):\n",
      " #   Column                  Non-Null Count  Dtype  \n",
      "---  ------                  --------------  -----  \n",
      " 0   unitid                  3798 non-null   int64  \n",
      " 1   chronname               3798 non-null   object \n",
      " 2   city                    3798 non-null   object \n",
      " 3   state                   3798 non-null   object \n",
      " 4   level                   3798 non-null   object \n",
      " 5   control                 3798 non-null   object \n",
      " 6   basic                   3798 non-null   object \n",
      " 7   hbcu                    3798 non-null   object \n",
      " 8   flagship                3798 non-null   object \n",
      " 9   long_x                  3798 non-null   float64\n",
      " 10  lat_y                   3798 non-null   float64\n",
      " 11  site                    3798 non-null   object \n",
      " 12  student_count           3798 non-null   int64  \n",
      " 13  awards_per_value        3798 non-null   float64\n",
      " 14  awards_per_state_value  3798 non-null   float64\n",
      " 15  awards_per_natl_value   3798 non-null   float64\n",
      " 16  exp_award_value         3798 non-null   int64  \n",
      " 17  exp_award_state_value   3798 non-null   int64  \n",
      " 18  exp_award_natl_value    3798 non-null   int64  \n",
      " 19  exp_award_percentile    3798 non-null   int64  \n",
      " 20  ft_pct                  3798 non-null   float64\n",
      " 21  fte_value               3798 non-null   int64  \n",
      " 22  fte_percentile          3798 non-null   int64  \n",
      " 23  med_sat_value           1337 non-null   float64\n",
      " 24  med_sat_percentile      1337 non-null   float64\n",
      " 25  aid_value               3798 non-null   float64\n",
      " 26  aid_percentile          3798 non-null   float64\n",
      " 27  endow_value             2323 non-null   float64\n",
      " 28  endow_percentile        2323 non-null   float64\n",
      " 29  grad_100_value          3467 non-null   float64\n",
      " 30  grad_100_percentile     3467 non-null   float64\n",
      " 31  grad_150_value          3467 non-null   float64\n",
      " 32  grad_150_percentile     3467 non-null   float64\n",
      " 33  pell_value              3798 non-null   float64\n",
      " 34  pell_percentile         3798 non-null   float64\n",
      " 35  retain_value            3535 non-null   float64\n",
      " 36  retain_percentile       3535 non-null   float64\n",
      " 37  ft_fac_value            3798 non-null   float64\n",
      " 38  ft_fac_percentile       3798 non-null   float64\n",
      " 39  similar                 3798 non-null   object \n",
      " 40  state_sector_ct         3798 non-null   int64  \n",
      " 41  carnegie_ct             3798 non-null   int64  \n",
      " 42  counted_pct             3372 non-null   float64\n",
      " 43  cohort_size             3467 non-null   float64\n",
      "dtypes: float64(24), int64(10), object(10)\n",
      "memory usage: 1.3+ MB\n"
     ]
    }
   ],
   "source": [
    "data.info()"
   ]
  },
  {
   "cell_type": "markdown",
   "id": "2663a813",
   "metadata": {},
   "source": [
    "## 4. Categorical Features"
   ]
  },
  {
   "cell_type": "code",
   "execution_count": null,
   "id": "c3ba7afa",
   "metadata": {},
   "outputs": [],
   "source": []
  }
 ],
 "metadata": {
  "kernelspec": {
   "display_name": "Python 3 (ipykernel)",
   "language": "python",
   "name": "python3"
  },
  "language_info": {
   "codemirror_mode": {
    "name": "ipython",
    "version": 3
   },
   "file_extension": ".py",
   "mimetype": "text/x-python",
   "name": "python",
   "nbconvert_exporter": "python",
   "pygments_lexer": "ipython3",
   "version": "3.11.7"
  }
 },
 "nbformat": 4,
 "nbformat_minor": 5
}
