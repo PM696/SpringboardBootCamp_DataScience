{
 "cells": [
  {
   "cell_type": "markdown",
   "id": "5686b0fe",
   "metadata": {},
   "source": [
    "# Step 4: Pre-processing"
   ]
  },
  {
   "cell_type": "markdown",
   "id": "b20d51af",
   "metadata": {},
   "source": [
    "## Imported Libraries and Packages"
   ]
  },
  {
   "cell_type": "code",
   "execution_count": 1,
   "id": "1429b450",
   "metadata": {},
   "outputs": [],
   "source": [
    "import numpy as np\n",
    "import pandas as pd\n",
    "import matplotlib.pyplot as plt\n",
    "import seaborn as sns\n",
    "%matplotlib inline\n",
    "import missingno as msno\n",
    "from sklearn import __version__ as sklearn_version\n",
    "from sklearn.decomposition import PCA\n",
    "from sklearn.preprocessing import scale\n",
    "from sklearn.model_selection import train_test_split, cross_validate, GridSearchCV, learning_curve, cross_val_score, KFold\n",
    "from sklearn.preprocessing import StandardScaler, MinMaxScaler\n",
    "from sklearn.dummy import DummyRegressor\n",
    "from sklearn.linear_model import LogisticRegression\n",
    "from sklearn.ensemble import RandomForestClassifier\n",
    "from sklearn.metrics import r2_score, mean_squared_error, mean_absolute_error\n",
    "from sklearn.pipeline import make_pipeline\n",
    "from sklearn.impute import SimpleImputer\n",
    "from sklearn.feature_selection import SelectKBest, f_regression\n",
    "from sklearn.tree import DecisionTreeClassifier\n",
    "import warnings  \n",
    "warnings.simplefilter(action=\"ignore\", category=FutureWarning)\n",
    "warnings.filterwarnings(action=\"ignore\", module=\"scipy\")"
   ]
  },
  {
   "cell_type": "markdown",
   "id": "155f3609",
   "metadata": {},
   "source": [
    "## Data"
   ]
  },
  {
   "cell_type": "code",
   "execution_count": 2,
   "id": "8a50829d",
   "metadata": {},
   "outputs": [
    {
     "data": {
      "text/html": [
       "<div>\n",
       "<style scoped>\n",
       "    .dataframe tbody tr th:only-of-type {\n",
       "        vertical-align: middle;\n",
       "    }\n",
       "\n",
       "    .dataframe tbody tr th {\n",
       "        vertical-align: top;\n",
       "    }\n",
       "\n",
       "    .dataframe thead th {\n",
       "        text-align: right;\n",
       "    }\n",
       "</style>\n",
       "<table border=\"1\" class=\"dataframe\">\n",
       "  <thead>\n",
       "    <tr style=\"text-align: right;\">\n",
       "      <th></th>\n",
       "      <th>chronname</th>\n",
       "      <th>city</th>\n",
       "      <th>state</th>\n",
       "      <th>level</th>\n",
       "      <th>control</th>\n",
       "      <th>basic</th>\n",
       "      <th>hbcu</th>\n",
       "      <th>flagship</th>\n",
       "      <th>student_count</th>\n",
       "      <th>awards_per_value</th>\n",
       "      <th>...</th>\n",
       "      <th>grad_100_value</th>\n",
       "      <th>grad_150_value</th>\n",
       "      <th>pell_value</th>\n",
       "      <th>retain_value</th>\n",
       "      <th>ft_fac_value</th>\n",
       "      <th>state_sector_ct</th>\n",
       "      <th>carnegie_ct</th>\n",
       "      <th>counted_pct</th>\n",
       "      <th>cohort_size</th>\n",
       "      <th>num_similar</th>\n",
       "    </tr>\n",
       "  </thead>\n",
       "  <tbody>\n",
       "    <tr>\n",
       "      <th>0</th>\n",
       "      <td>Alabama A&amp;M University</td>\n",
       "      <td>Normal</td>\n",
       "      <td>Alabama</td>\n",
       "      <td>4-year</td>\n",
       "      <td>Public</td>\n",
       "      <td>Masters Colleges and Universities--larger prog...</td>\n",
       "      <td>yes</td>\n",
       "      <td>no</td>\n",
       "      <td>4051.0</td>\n",
       "      <td>14.2</td>\n",
       "      <td>...</td>\n",
       "      <td>10.0</td>\n",
       "      <td>29.1</td>\n",
       "      <td>71.2</td>\n",
       "      <td>63.1</td>\n",
       "      <td>82.8</td>\n",
       "      <td>13.0</td>\n",
       "      <td>386</td>\n",
       "      <td>99.7</td>\n",
       "      <td>882.0</td>\n",
       "      <td>20.0</td>\n",
       "    </tr>\n",
       "    <tr>\n",
       "      <th>1</th>\n",
       "      <td>University of Alabama at Birmingham</td>\n",
       "      <td>Birmingham</td>\n",
       "      <td>Alabama</td>\n",
       "      <td>4-year</td>\n",
       "      <td>Public</td>\n",
       "      <td>Research Universities--very high research acti...</td>\n",
       "      <td>no</td>\n",
       "      <td>no</td>\n",
       "      <td>11502.0</td>\n",
       "      <td>20.9</td>\n",
       "      <td>...</td>\n",
       "      <td>29.4</td>\n",
       "      <td>53.5</td>\n",
       "      <td>35.1</td>\n",
       "      <td>80.2</td>\n",
       "      <td>92.4</td>\n",
       "      <td>13.0</td>\n",
       "      <td>106</td>\n",
       "      <td>56.0</td>\n",
       "      <td>1376.0</td>\n",
       "      <td>20.0</td>\n",
       "    </tr>\n",
       "  </tbody>\n",
       "</table>\n",
       "<p>2 rows × 29 columns</p>\n",
       "</div>"
      ],
      "text/plain": [
       "                             chronname        city    state   level control  \\\n",
       "0               Alabama A&M University      Normal  Alabama  4-year  Public   \n",
       "1  University of Alabama at Birmingham  Birmingham  Alabama  4-year  Public   \n",
       "\n",
       "                                               basic hbcu flagship  \\\n",
       "0  Masters Colleges and Universities--larger prog...  yes       no   \n",
       "1  Research Universities--very high research acti...   no       no   \n",
       "\n",
       "   student_count  awards_per_value  ...  grad_100_value  grad_150_value  \\\n",
       "0         4051.0              14.2  ...            10.0            29.1   \n",
       "1        11502.0              20.9  ...            29.4            53.5   \n",
       "\n",
       "   pell_value  retain_value  ft_fac_value  state_sector_ct  carnegie_ct  \\\n",
       "0        71.2          63.1          82.8             13.0          386   \n",
       "1        35.1          80.2          92.4             13.0          106   \n",
       "\n",
       "   counted_pct  cohort_size  num_similar  \n",
       "0         99.7        882.0         20.0  \n",
       "1         56.0       1376.0         20.0  \n",
       "\n",
       "[2 rows x 29 columns]"
      ]
     },
     "execution_count": 2,
     "metadata": {},
     "output_type": "execute_result"
    }
   ],
   "source": [
    "df = pd.read_csv('collegedata_EDAd.csv')\n",
    "df.head(2)"
   ]
  },
  {
   "cell_type": "code",
   "execution_count": 3,
   "id": "ad184e4a",
   "metadata": {},
   "outputs": [
    {
     "name": "stdout",
     "output_type": "stream",
     "text": [
      "(3798, 29)\n"
     ]
    }
   ],
   "source": [
    "print(df.shape)"
   ]
  },
  {
   "cell_type": "code",
   "execution_count": 4,
   "id": "4c856777",
   "metadata": {},
   "outputs": [
    {
     "data": {
      "text/html": [
       "<div>\n",
       "<style scoped>\n",
       "    .dataframe tbody tr th:only-of-type {\n",
       "        vertical-align: middle;\n",
       "    }\n",
       "\n",
       "    .dataframe tbody tr th {\n",
       "        vertical-align: top;\n",
       "    }\n",
       "\n",
       "    .dataframe thead th {\n",
       "        text-align: right;\n",
       "    }\n",
       "</style>\n",
       "<table border=\"1\" class=\"dataframe\">\n",
       "  <thead>\n",
       "    <tr style=\"text-align: right;\">\n",
       "      <th></th>\n",
       "      <th>count</th>\n",
       "      <th>mean</th>\n",
       "      <th>std</th>\n",
       "      <th>min</th>\n",
       "      <th>25%</th>\n",
       "      <th>50%</th>\n",
       "      <th>75%</th>\n",
       "      <th>max</th>\n",
       "    </tr>\n",
       "  </thead>\n",
       "  <tbody>\n",
       "    <tr>\n",
       "      <th>student_count</th>\n",
       "      <td>3413.0</td>\n",
       "      <td>2552.958980</td>\n",
       "      <td>2761.697368</td>\n",
       "      <td>23.0</td>\n",
       "      <td>516.000</td>\n",
       "      <td>1492.0</td>\n",
       "      <td>3596.000</td>\n",
       "      <td>11969.0</td>\n",
       "    </tr>\n",
       "    <tr>\n",
       "      <th>awards_per_value</th>\n",
       "      <td>3532.0</td>\n",
       "      <td>21.491110</td>\n",
       "      <td>6.849469</td>\n",
       "      <td>3.6</td>\n",
       "      <td>17.000</td>\n",
       "      <td>20.9</td>\n",
       "      <td>25.025</td>\n",
       "      <td>40.3</td>\n",
       "    </tr>\n",
       "    <tr>\n",
       "      <th>awards_per_state_value</th>\n",
       "      <td>3313.0</td>\n",
       "      <td>20.951585</td>\n",
       "      <td>3.670954</td>\n",
       "      <td>12.1</td>\n",
       "      <td>18.500</td>\n",
       "      <td>21.7</td>\n",
       "      <td>23.200</td>\n",
       "      <td>31.1</td>\n",
       "    </tr>\n",
       "    <tr>\n",
       "      <th>awards_per_natl_value</th>\n",
       "      <td>2407.0</td>\n",
       "      <td>22.793270</td>\n",
       "      <td>1.212146</td>\n",
       "      <td>21.5</td>\n",
       "      <td>21.500</td>\n",
       "      <td>22.5</td>\n",
       "      <td>22.500</td>\n",
       "      <td>25.9</td>\n",
       "    </tr>\n",
       "    <tr>\n",
       "      <th>exp_award_value</th>\n",
       "      <td>3580.0</td>\n",
       "      <td>53231.429330</td>\n",
       "      <td>30491.283035</td>\n",
       "      <td>0.0</td>\n",
       "      <td>31386.250</td>\n",
       "      <td>48545.0</td>\n",
       "      <td>70972.250</td>\n",
       "      <td>143700.0</td>\n",
       "    </tr>\n",
       "    <tr>\n",
       "      <th>exp_award_state_value</th>\n",
       "      <td>3657.0</td>\n",
       "      <td>57636.617446</td>\n",
       "      <td>27975.482849</td>\n",
       "      <td>12346.0</td>\n",
       "      <td>35515.000</td>\n",
       "      <td>53245.0</td>\n",
       "      <td>75743.000</td>\n",
       "      <td>144220.0</td>\n",
       "    </tr>\n",
       "    <tr>\n",
       "      <th>exp_award_natl_value</th>\n",
       "      <td>3798.0</td>\n",
       "      <td>60903.577672</td>\n",
       "      <td>29892.281333</td>\n",
       "      <td>24795.0</td>\n",
       "      <td>37780.000</td>\n",
       "      <td>38763.0</td>\n",
       "      <td>101725.000</td>\n",
       "      <td>101725.0</td>\n",
       "    </tr>\n",
       "    <tr>\n",
       "      <th>ft_pct</th>\n",
       "      <td>3794.0</td>\n",
       "      <td>71.092198</td>\n",
       "      <td>25.056818</td>\n",
       "      <td>3.8</td>\n",
       "      <td>49.800</td>\n",
       "      <td>77.0</td>\n",
       "      <td>93.900</td>\n",
       "      <td>100.0</td>\n",
       "    </tr>\n",
       "    <tr>\n",
       "      <th>fte_value</th>\n",
       "      <td>3417.0</td>\n",
       "      <td>2157.546386</td>\n",
       "      <td>2162.321634</td>\n",
       "      <td>33.0</td>\n",
       "      <td>559.000</td>\n",
       "      <td>1388.0</td>\n",
       "      <td>2970.000</td>\n",
       "      <td>9548.0</td>\n",
       "    </tr>\n",
       "    <tr>\n",
       "      <th>aid_value</th>\n",
       "      <td>3424.0</td>\n",
       "      <td>6254.176694</td>\n",
       "      <td>3550.105453</td>\n",
       "      <td>294.0</td>\n",
       "      <td>3924.750</td>\n",
       "      <td>4903.5</td>\n",
       "      <td>7226.000</td>\n",
       "      <td>17309.0</td>\n",
       "    </tr>\n",
       "    <tr>\n",
       "      <th>endow_value</th>\n",
       "      <td>2050.0</td>\n",
       "      <td>8677.865366</td>\n",
       "      <td>10730.837786</td>\n",
       "      <td>0.0</td>\n",
       "      <td>1164.500</td>\n",
       "      <td>4119.0</td>\n",
       "      <td>11874.750</td>\n",
       "      <td>46513.0</td>\n",
       "    </tr>\n",
       "    <tr>\n",
       "      <th>grad_100_value</th>\n",
       "      <td>3449.0</td>\n",
       "      <td>27.993737</td>\n",
       "      <td>22.799859</td>\n",
       "      <td>0.0</td>\n",
       "      <td>8.900</td>\n",
       "      <td>22.3</td>\n",
       "      <td>42.900</td>\n",
       "      <td>95.3</td>\n",
       "    </tr>\n",
       "    <tr>\n",
       "      <th>grad_150_value</th>\n",
       "      <td>3467.0</td>\n",
       "      <td>42.407586</td>\n",
       "      <td>23.460824</td>\n",
       "      <td>0.0</td>\n",
       "      <td>22.700</td>\n",
       "      <td>41.1</td>\n",
       "      <td>60.250</td>\n",
       "      <td>100.0</td>\n",
       "    </tr>\n",
       "    <tr>\n",
       "      <th>pell_value</th>\n",
       "      <td>3797.0</td>\n",
       "      <td>47.572057</td>\n",
       "      <td>20.065216</td>\n",
       "      <td>0.0</td>\n",
       "      <td>32.400</td>\n",
       "      <td>44.7</td>\n",
       "      <td>62.500</td>\n",
       "      <td>100.0</td>\n",
       "    </tr>\n",
       "    <tr>\n",
       "      <th>retain_value</th>\n",
       "      <td>3476.0</td>\n",
       "      <td>67.250575</td>\n",
       "      <td>15.214920</td>\n",
       "      <td>24.7</td>\n",
       "      <td>56.675</td>\n",
       "      <td>67.2</td>\n",
       "      <td>78.300</td>\n",
       "      <td>100.0</td>\n",
       "    </tr>\n",
       "    <tr>\n",
       "      <th>ft_fac_value</th>\n",
       "      <td>3785.0</td>\n",
       "      <td>45.107477</td>\n",
       "      <td>24.726902</td>\n",
       "      <td>0.0</td>\n",
       "      <td>25.700</td>\n",
       "      <td>41.5</td>\n",
       "      <td>63.000</td>\n",
       "      <td>100.0</td>\n",
       "    </tr>\n",
       "    <tr>\n",
       "      <th>state_sector_ct</th>\n",
       "      <td>3569.0</td>\n",
       "      <td>29.136173</td>\n",
       "      <td>20.325737</td>\n",
       "      <td>1.0</td>\n",
       "      <td>13.000</td>\n",
       "      <td>23.0</td>\n",
       "      <td>42.000</td>\n",
       "      <td>82.0</td>\n",
       "    </tr>\n",
       "    <tr>\n",
       "      <th>carnegie_ct</th>\n",
       "      <td>3798.0</td>\n",
       "      <td>232.557662</td>\n",
       "      <td>156.960653</td>\n",
       "      <td>1.0</td>\n",
       "      <td>106.000</td>\n",
       "      <td>169.0</td>\n",
       "      <td>343.000</td>\n",
       "      <td>517.0</td>\n",
       "    </tr>\n",
       "    <tr>\n",
       "      <th>counted_pct</th>\n",
       "      <td>3371.0</td>\n",
       "      <td>57.648532</td>\n",
       "      <td>25.479066</td>\n",
       "      <td>0.0</td>\n",
       "      <td>38.100</td>\n",
       "      <td>58.6</td>\n",
       "      <td>77.700</td>\n",
       "      <td>100.0</td>\n",
       "    </tr>\n",
       "    <tr>\n",
       "      <th>cohort_size</th>\n",
       "      <td>3168.0</td>\n",
       "      <td>426.810290</td>\n",
       "      <td>401.965860</td>\n",
       "      <td>1.0</td>\n",
       "      <td>111.750</td>\n",
       "      <td>312.0</td>\n",
       "      <td>604.000</td>\n",
       "      <td>1758.0</td>\n",
       "    </tr>\n",
       "    <tr>\n",
       "      <th>num_similar</th>\n",
       "      <td>3798.0</td>\n",
       "      <td>18.846761</td>\n",
       "      <td>4.662675</td>\n",
       "      <td>0.0</td>\n",
       "      <td>20.000</td>\n",
       "      <td>20.0</td>\n",
       "      <td>20.000</td>\n",
       "      <td>20.0</td>\n",
       "    </tr>\n",
       "  </tbody>\n",
       "</table>\n",
       "</div>"
      ],
      "text/plain": [
       "                         count          mean           std      min  \\\n",
       "student_count           3413.0   2552.958980   2761.697368     23.0   \n",
       "awards_per_value        3532.0     21.491110      6.849469      3.6   \n",
       "awards_per_state_value  3313.0     20.951585      3.670954     12.1   \n",
       "awards_per_natl_value   2407.0     22.793270      1.212146     21.5   \n",
       "exp_award_value         3580.0  53231.429330  30491.283035      0.0   \n",
       "exp_award_state_value   3657.0  57636.617446  27975.482849  12346.0   \n",
       "exp_award_natl_value    3798.0  60903.577672  29892.281333  24795.0   \n",
       "ft_pct                  3794.0     71.092198     25.056818      3.8   \n",
       "fte_value               3417.0   2157.546386   2162.321634     33.0   \n",
       "aid_value               3424.0   6254.176694   3550.105453    294.0   \n",
       "endow_value             2050.0   8677.865366  10730.837786      0.0   \n",
       "grad_100_value          3449.0     27.993737     22.799859      0.0   \n",
       "grad_150_value          3467.0     42.407586     23.460824      0.0   \n",
       "pell_value              3797.0     47.572057     20.065216      0.0   \n",
       "retain_value            3476.0     67.250575     15.214920     24.7   \n",
       "ft_fac_value            3785.0     45.107477     24.726902      0.0   \n",
       "state_sector_ct         3569.0     29.136173     20.325737      1.0   \n",
       "carnegie_ct             3798.0    232.557662    156.960653      1.0   \n",
       "counted_pct             3371.0     57.648532     25.479066      0.0   \n",
       "cohort_size             3168.0    426.810290    401.965860      1.0   \n",
       "num_similar             3798.0     18.846761      4.662675      0.0   \n",
       "\n",
       "                              25%      50%         75%       max  \n",
       "student_count             516.000   1492.0    3596.000   11969.0  \n",
       "awards_per_value           17.000     20.9      25.025      40.3  \n",
       "awards_per_state_value     18.500     21.7      23.200      31.1  \n",
       "awards_per_natl_value      21.500     22.5      22.500      25.9  \n",
       "exp_award_value         31386.250  48545.0   70972.250  143700.0  \n",
       "exp_award_state_value   35515.000  53245.0   75743.000  144220.0  \n",
       "exp_award_natl_value    37780.000  38763.0  101725.000  101725.0  \n",
       "ft_pct                     49.800     77.0      93.900     100.0  \n",
       "fte_value                 559.000   1388.0    2970.000    9548.0  \n",
       "aid_value                3924.750   4903.5    7226.000   17309.0  \n",
       "endow_value              1164.500   4119.0   11874.750   46513.0  \n",
       "grad_100_value              8.900     22.3      42.900      95.3  \n",
       "grad_150_value             22.700     41.1      60.250     100.0  \n",
       "pell_value                 32.400     44.7      62.500     100.0  \n",
       "retain_value               56.675     67.2      78.300     100.0  \n",
       "ft_fac_value               25.700     41.5      63.000     100.0  \n",
       "state_sector_ct            13.000     23.0      42.000      82.0  \n",
       "carnegie_ct               106.000    169.0     343.000     517.0  \n",
       "counted_pct                38.100     58.6      77.700     100.0  \n",
       "cohort_size               111.750    312.0     604.000    1758.0  \n",
       "num_similar                20.000     20.0      20.000      20.0  "
      ]
     },
     "execution_count": 4,
     "metadata": {},
     "output_type": "execute_result"
    }
   ],
   "source": [
    "df.describe().T"
   ]
  },
  {
   "cell_type": "code",
   "execution_count": 5,
   "id": "f0f3cff9",
   "metadata": {},
   "outputs": [
    {
     "name": "stdout",
     "output_type": "stream",
     "text": [
      "Index(['chronname', 'city', 'state', 'level', 'control', 'basic', 'hbcu',\n",
      "       'flagship', 'student_count', 'awards_per_value',\n",
      "       'awards_per_state_value', 'awards_per_natl_value', 'exp_award_value',\n",
      "       'exp_award_state_value', 'exp_award_natl_value', 'ft_pct', 'fte_value',\n",
      "       'aid_value', 'endow_value', 'grad_100_value', 'grad_150_value',\n",
      "       'pell_value', 'retain_value', 'ft_fac_value', 'state_sector_ct',\n",
      "       'carnegie_ct', 'counted_pct', 'cohort_size', 'num_similar'],\n",
      "      dtype='object')\n"
     ]
    }
   ],
   "source": [
    "print(df.columns)"
   ]
  },
  {
   "cell_type": "markdown",
   "id": "1bdd33a8",
   "metadata": {},
   "source": [
    "## Cleaning data"
   ]
  },
  {
   "cell_type": "code",
   "execution_count": 6,
   "id": "995415b6",
   "metadata": {},
   "outputs": [
    {
     "name": "stdout",
     "output_type": "stream",
     "text": [
      "(3798, 26)\n"
     ]
    }
   ],
   "source": [
    "# Drop Unnecessary variables from the dataframe\n",
    "irrelevant_features_list = ['chronname', 'city', 'state']\n",
    "df.drop(columns=irrelevant_features_list, inplace=True)\n",
    "print(df.shape)"
   ]
  },
  {
   "cell_type": "markdown",
   "id": "4d7bafe1",
   "metadata": {},
   "source": [
    "**Missing values:**"
   ]
  },
  {
   "cell_type": "code",
   "execution_count": 14,
   "id": "af74718c",
   "metadata": {},
   "outputs": [
    {
     "name": "stdout",
     "output_type": "stream",
     "text": [
      "endow_value               46.024223\n",
      "awards_per_natl_value     36.624539\n",
      "cohort_size               16.587678\n",
      "awards_per_state_value    12.769879\n",
      "counted_pct               11.242759\n",
      "student_count             10.136914\n",
      "fte_value                 10.031596\n",
      "aid_value                  9.847288\n",
      "grad_100_value             9.189047\n",
      "grad_150_value             8.715113\n",
      "retain_value               8.478146\n",
      "awards_per_value           7.003686\n",
      "state_sector_ct            6.029489\n",
      "exp_award_value            5.739863\n",
      "exp_award_state_value      3.712480\n",
      "ft_fac_value               0.342285\n",
      "ft_pct                     0.105319\n",
      "pell_value                 0.026330\n",
      "carnegie_ct                0.000000\n",
      "level                      0.000000\n",
      "control                    0.000000\n",
      "exp_award_natl_value       0.000000\n",
      "flagship                   0.000000\n",
      "hbcu                       0.000000\n",
      "basic                      0.000000\n",
      "num_similar                0.000000\n",
      "dtype: float64\n"
     ]
    }
   ],
   "source": [
    "null_values= df.isna().sum()\n",
    "percent_null_values = ((null_values / len(df)) * 100).sort_values(ascending=False)\n",
    "print(percent_null_values)"
   ]
  },
  {
   "cell_type": "markdown",
   "id": "28d905ed",
   "metadata": {},
   "source": [
    "**Impute missing values:**"
   ]
  },
  {
   "cell_type": "code",
   "execution_count": null,
   "id": "46d55bb1",
   "metadata": {},
   "outputs": [],
   "source": []
  },
  {
   "cell_type": "markdown",
   "id": "2ea14dbb",
   "metadata": {},
   "source": [
    "**Encoding Features:**"
   ]
  },
  {
   "cell_type": "code",
   "execution_count": null,
   "id": "ee41ec54",
   "metadata": {},
   "outputs": [],
   "source": [
    "df.level.unique()"
   ]
  },
  {
   "cell_type": "code",
   "execution_count": null,
   "id": "e45d597a",
   "metadata": {},
   "outputs": [],
   "source": [
    "#OneHot encoding \n",
    "df = pd.get_dummies(df, columns=['level'], drop_first=False, prefix='level')\n",
    "\n",
    "#Rename\n",
    "df.rename(columns={\n",
    "    'level_2-year':'2_yr_inst',\n",
    "    'level_4-year':'4_yr_inst'\n",
    "}, inplace=True)"
   ]
  },
  {
   "cell_type": "code",
   "execution_count": null,
   "id": "83caf482",
   "metadata": {},
   "outputs": [],
   "source": [
    "df.control.unique()"
   ]
  },
  {
   "cell_type": "code",
   "execution_count": null,
   "id": "7595968e",
   "metadata": {},
   "outputs": [],
   "source": [
    "df = pd.get_dummies(df, columns=['control'], drop_first=False, prefix='c')\n",
    "#Rename\n",
    "df.rename(columns={\n",
    "    'c_Public':'public',\n",
    "    'c_Private not-for-profit':'private',\n",
    "    'c_Private for-profit':'private_fp'\n",
    "}, inplace=True)"
   ]
  },
  {
   "cell_type": "code",
   "execution_count": null,
   "id": "57b24b63",
   "metadata": {},
   "outputs": [],
   "source": [
    "df.hbcu.unique()"
   ]
  },
  {
   "cell_type": "code",
   "execution_count": null,
   "id": "7509f80f",
   "metadata": {},
   "outputs": [],
   "source": [
    "df = pd.get_dummies(df, columns=['hbcu'], drop_first=False)"
   ]
  },
  {
   "cell_type": "code",
   "execution_count": null,
   "id": "0b483053",
   "metadata": {},
   "outputs": [],
   "source": [
    "df.flagship.unique()"
   ]
  },
  {
   "cell_type": "code",
   "execution_count": null,
   "id": "0afebf4e",
   "metadata": {},
   "outputs": [],
   "source": [
    "df = pd.get_dummies(df, columns=['flagship'], drop_first=False)"
   ]
  },
  {
   "cell_type": "code",
   "execution_count": null,
   "id": "a46a7b04",
   "metadata": {},
   "outputs": [],
   "source": [
    "print(df.columns)"
   ]
  },
  {
   "cell_type": "code",
   "execution_count": null,
   "id": "1f7536ec",
   "metadata": {},
   "outputs": [],
   "source": [
    "counts = df.basic.value_counts()\n",
    "print(counts)"
   ]
  },
  {
   "cell_type": "code",
   "execution_count": null,
   "id": "8a484c34",
   "metadata": {},
   "outputs": [],
   "source": [
    "#Limit columns in 'basic'\n",
    "mask = df['basic'].isin(counts[counts <=114].index)\n",
    "df['basic'][mask] = 'Other'\n",
    "print(df.basic.unique())"
   ]
  },
  {
   "cell_type": "code",
   "execution_count": null,
   "id": "2e33252c",
   "metadata": {},
   "outputs": [],
   "source": [
    "#OneHot encoding \n",
    "df = pd.get_dummies(df, columns=['basic'], drop_first=False, prefix='B')\n",
    "\n",
    "#Rename\n",
    "df.rename(columns={\n",
    "    'B_Masters Colleges and Universities--larger programs':'masters_lp',\n",
    "    'B_Baccalaureate Colleges--Arts & Sciences':'bachelors_as',\n",
    "    'B_Associates--Public Rural-serving Medium':'associates_pr_sm',\n",
    "    'B_Baccalaureate Colleges--Diverse Fields':'bacelors_df',\n",
    "    'B_Baccalaureate/Associates Colleges':'bachelors_associates',\n",
    "    'B_Associates--Public Rural-serving Large':'associates_pr_sl',\n",
    "    'B_Associates--Public Urban-serving Multicampus':'associates_pu_multi',\n",
    "    'B_Masters Colleges and Universities--medium programs':'masters_mp',\n",
    "    'B_Associates--Private For-profit':'associates_privatefp',\n",
    "    'B_Other':'Other_institutions'\n",
    "}, inplace=True)"
   ]
  },
  {
   "cell_type": "code",
   "execution_count": null,
   "id": "a55a4d7c",
   "metadata": {},
   "outputs": [],
   "source": [
    "# Convert boolean features to binary (0 and 1)\n",
    "for feature in df.select_dtypes(include=['bool']):\n",
    "    df[feature] = df[feature].astype(int)"
   ]
  },
  {
   "cell_type": "code",
   "execution_count": null,
   "id": "2a13f365",
   "metadata": {},
   "outputs": [],
   "source": [
    "cols_to_convert = ['cohort_size', 'num_similar', 'grad_100_value', 'grad_150_value', 'retain_value', 'student_count', \n",
    "                   'awards_per_value', 'fte_value', 'exp_award_state_value', 'exp_award_natl_value']\n",
    "df[cols_to_convert] = df[cols_to_convert].astype(int)"
   ]
  },
  {
   "cell_type": "code",
   "execution_count": null,
   "id": "d4ddbba0",
   "metadata": {},
   "outputs": [],
   "source": [
    "df.info()"
   ]
  },
  {
   "cell_type": "markdown",
   "id": "f8e4683a",
   "metadata": {},
   "source": [
    "## Correlation between Features"
   ]
  },
  {
   "cell_type": "code",
   "execution_count": null,
   "id": "a38a032c",
   "metadata": {},
   "outputs": [],
   "source": [
    "# A heatmap of correlation between features\n",
    "plt.figure(figsize=(12, 10))\n",
    "sns.heatmap(df.corr(), fmt='.2f')\n",
    "plt.title('Correlation Matrix Heatmap')\n",
    "plt.show();"
   ]
  },
  {
   "cell_type": "code",
   "execution_count": null,
   "id": "b412ebff",
   "metadata": {},
   "outputs": [],
   "source": [
    "sns.pairplot(data=df)"
   ]
  },
  {
   "cell_type": "markdown",
   "id": "7e4c1d6d",
   "metadata": {},
   "source": [
    "## Train/Test Split"
   ]
  },
  {
   "cell_type": "code",
   "execution_count": null,
   "id": "1e50c90d",
   "metadata": {},
   "outputs": [],
   "source": [
    "len(df) * .8, len(df) * .2"
   ]
  },
  {
   "cell_type": "code",
   "execution_count": null,
   "id": "b644fc82",
   "metadata": {},
   "outputs": [],
   "source": [
    "X = df.drop(columns=['awards_per_value'])\n",
    "y = df['awards_per_value']\n",
    "\n",
    "X_train, X_test, y_train, y_test = train_test_split(X, y, test_size = 0.2, random_state = 21)\n",
    "\n",
    "X_train.shape, X_test.shape, y_train.shape, y_test.shape"
   ]
  },
  {
   "cell_type": "code",
   "execution_count": null,
   "id": "50387299",
   "metadata": {},
   "outputs": [],
   "source": [
    "scaler = StandardScaler().fit(X_train)\n",
    "X_train_scaled = scaler.transform(X_train)\n",
    "X_test_scaled = scaler.transform(X_test)"
   ]
  },
  {
   "cell_type": "markdown",
   "id": "69d96b6f",
   "metadata": {},
   "source": [
    "## Save Pre-processed dataset to csv file"
   ]
  },
  {
   "cell_type": "code",
   "execution_count": null,
   "id": "ab1f0f91",
   "metadata": {},
   "outputs": [],
   "source": [
    "df.to_csv('preprocessed_collegedata.csv', index=False)"
   ]
  },
  {
   "cell_type": "code",
   "execution_count": null,
   "id": "dad2b329",
   "metadata": {},
   "outputs": [],
   "source": []
  }
 ],
 "metadata": {
  "kernelspec": {
   "display_name": "Python 3 (ipykernel)",
   "language": "python",
   "name": "python3"
  },
  "language_info": {
   "codemirror_mode": {
    "name": "ipython",
    "version": 3
   },
   "file_extension": ".py",
   "mimetype": "text/x-python",
   "name": "python",
   "nbconvert_exporter": "python",
   "pygments_lexer": "ipython3",
   "version": "3.11.7"
  }
 },
 "nbformat": 4,
 "nbformat_minor": 5
}
