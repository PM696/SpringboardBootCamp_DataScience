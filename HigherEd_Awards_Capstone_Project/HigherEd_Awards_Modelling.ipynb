{
 "cells": [
  {
   "cell_type": "markdown",
   "id": "01ff2622",
   "metadata": {},
   "source": [
    "# Step 5. Modelling and Hyperparameter Tuning"
   ]
  },
  {
   "cell_type": "markdown",
   "id": "bb9a1127",
   "metadata": {},
   "source": [
    "## Imports"
   ]
  },
  {
   "cell_type": "code",
   "execution_count": 1,
   "id": "3ae309fe",
   "metadata": {},
   "outputs": [],
   "source": [
    "import numpy as np\n",
    "import pandas as pd\n",
    "import matplotlib.pyplot as plt\n",
    "import seaborn as sns\n",
    "%matplotlib inline\n",
    "from sklearn import __version__ as sklearn_version\n",
    "from sklearn.decomposition import PCA\n",
    "from sklearn.preprocessing import scale\n",
    "from sklearn.model_selection import train_test_split, cross_validate, GridSearchCV, RandomizedSearchCV, cross_val_score, KFold\n",
    "from sklearn.preprocessing import StandardScaler, MinMaxScaler\n",
    "from sklearn.dummy import DummyRegressor\n",
    "from sklearn.linear_model import LinearRegression, Ridge, Lasso, ElasticNet\n",
    "from sklearn.ensemble import RandomForestRegressor, GradientBoostingRegressor, RandomForestClassifier\n",
    "from sklearn.metrics import r2_score, mean_squared_error, mean_absolute_error\n",
    "from sklearn.pipeline import make_pipeline\n",
    "from sklearn.feature_selection import SelectKBest, f_regression\n",
    "from sklearn.tree import DecisionTreeRegressor\n",
    "from sklearn.svm import SVR\n",
    "from datetime import datetime, date\n",
    "from scipy.stats import randint\n",
    "import warnings  \n",
    "warnings.simplefilter(action=\"ignore\", category=FutureWarning)\n",
    "warnings.filterwarnings(action=\"ignore\", module=\"scipy\")"
   ]
  },
  {
   "cell_type": "markdown",
   "id": "c06d7864",
   "metadata": {},
   "source": [
    "## Data"
   ]
  },
  {
   "cell_type": "code",
   "execution_count": 2,
   "id": "923e2fda",
   "metadata": {},
   "outputs": [
    {
     "name": "stdout",
     "output_type": "stream",
     "text": [
      "   student_count  awards_per_value  awards_per_state_value  \\\n",
      "0           4051                14                    18.8   \n",
      "1          11502                20                    18.8   \n",
      "2            322                29                    17.8   \n",
      "3           5696                20                    18.8   \n",
      "4           5356                11                    18.8   \n",
      "\n",
      "   awards_per_natl_value  exp_award_value  exp_award_state_value  \\\n",
      "0                   21.5         105331.0                  75743   \n",
      "1                   21.5         136546.0                  75743   \n",
      "2                   22.5          58414.0                  92268   \n",
      "3                   21.5          64418.0                  75743   \n",
      "4                   21.5         132407.0                  75743   \n",
      "\n",
      "   exp_award_natl_value  ft_pct  fte_value  aid_value  ...  grad_150_value  \\\n",
      "0                 66436    93.8       3906     7142.0  ...              29   \n",
      "1                 66436    72.7       2157     6088.0  ...              53   \n",
      "2                101725    62.7        294     2540.0  ...              66   \n",
      "3                 66436    74.4       5000     6647.0  ...              48   \n",
      "4                 66436    91.0       5035     7256.0  ...              25   \n",
      "\n",
      "   pell_value  retain_value  ft_fac_value  state_sector_ct  carnegie_ct  \\\n",
      "0        71.2            63          82.8             13.0          386   \n",
      "1        35.1            80          92.4             13.0          106   \n",
      "2        68.4            37          67.2             16.0          252   \n",
      "3        32.8            81          65.5             13.0          106   \n",
      "4        82.7            62          67.0             13.0          386   \n",
      "\n",
      "   counted_pct  cohort_size  num_similar  public  \n",
      "0         99.7          882           20       1  \n",
      "1         56.0         1376           20       1  \n",
      "2        100.0            3           20       0  \n",
      "3         43.1          759           20       1  \n",
      "4         88.0         1351           20       1  \n",
      "\n",
      "[5 rows x 22 columns]\n"
     ]
    }
   ],
   "source": [
    "df = pd.read_csv('preprocessed_collegedata.csv')\n",
    "print(df.head())"
   ]
  },
  {
   "cell_type": "markdown",
   "id": "03cad868",
   "metadata": {},
   "source": [
    "## Train/Test Split Data"
   ]
  },
  {
   "cell_type": "code",
   "execution_count": 3,
   "id": "4b92e6d1",
   "metadata": {},
   "outputs": [
    {
     "data": {
      "text/plain": [
       "((3038, 21), (760, 21))"
      ]
     },
     "execution_count": 3,
     "metadata": {},
     "output_type": "execute_result"
    }
   ],
   "source": [
    "X = df.drop(columns=['awards_per_value'])\n",
    "y = df['awards_per_value']\n",
    "\n",
    "X_train, X_test, y_train, y_test = train_test_split(X, y, test_size = 0.2, random_state = 21)\n",
    "\n",
    "X_train.shape, X_test.shape"
   ]
  },
  {
   "cell_type": "markdown",
   "id": "d35a4fa0",
   "metadata": {},
   "source": [
    "## Scaled X_train, X_test data"
   ]
  },
  {
   "cell_type": "code",
   "execution_count": 4,
   "id": "fc86fad8",
   "metadata": {},
   "outputs": [],
   "source": [
    "scaler = StandardScaler().fit(X_train)\n",
    "X_train_scaled = scaler.transform(X_train)\n",
    "X_test_scaled = scaler.transform(X_test)"
   ]
  },
  {
   "cell_type": "markdown",
   "id": "2e796e93",
   "metadata": {},
   "source": [
    "## Train/test several Models:"
   ]
  },
  {
   "cell_type": "markdown",
   "id": "28109345",
   "metadata": {},
   "source": [
    "### Define Models."
   ]
  },
  {
   "cell_type": "code",
   "execution_count": 5,
   "id": "a38550d1",
   "metadata": {},
   "outputs": [],
   "source": [
    "models = {\n",
    "    'Linear Regression': LinearRegression(),\n",
    "    'Ridge Regression': Ridge(),\n",
    "    'Lasso Regression': Lasso(),\n",
    "    'Decision Tree': DecisionTreeRegressor(),\n",
    "    'Random Forest': RandomForestRegressor(),\n",
    "    'Gradient Boosting': GradientBoostingRegressor(),\n",
    "    'Elastic Net': ElasticNet(),\n",
    "    'SVR': SVR()\n",
    "}\n"
   ]
  },
  {
   "cell_type": "markdown",
   "id": "3464b93e",
   "metadata": {},
   "source": [
    "**(a). Using unscaled data.**"
   ]
  },
  {
   "cell_type": "code",
   "execution_count": 6,
   "id": "edc66a33",
   "metadata": {},
   "outputs": [
    {
     "name": "stdout",
     "output_type": "stream",
     "text": [
      "Linear Regression: RMSE = 5.359441840192864\n",
      "Ridge Regression: RMSE = 5.3595327871102185\n",
      "Lasso Regression: RMSE = 5.384823298535275\n",
      "Decision Tree: RMSE = 6.848357467305573\n",
      "Random Forest: RMSE = 4.905253132048711\n",
      "Gradient Boosting: RMSE = 4.975539903715877\n",
      "Elastic Net: RMSE = 5.386298905036575\n",
      "SVR: RMSE = 5.968143509928486\n"
     ]
    }
   ],
   "source": [
    "# Train and test the models\n",
    "results = {}\n",
    "for name, model in models.items():\n",
    "    model.fit(X_train, y_train)\n",
    "    y_pred = model.predict(X_test)\n",
    "    mse = mean_squared_error(y_test, y_pred)\n",
    "    # Calculate RMSE\n",
    "    rmse = np.sqrt(mse)\n",
    "    results[name] = rmse\n",
    "\n",
    "# Results\n",
    "for name, rmse in results.items():\n",
    "    print(f'{name}: RMSE = {rmse}')"
   ]
  },
  {
   "cell_type": "markdown",
   "id": "7ae75fba",
   "metadata": {},
   "source": [
    "**(b). Using scaled data.**"
   ]
  },
  {
   "cell_type": "code",
   "execution_count": 7,
   "id": "50c1fe9d",
   "metadata": {},
   "outputs": [
    {
     "name": "stdout",
     "output_type": "stream",
     "text": [
      "Linear Regression: RMSE = 5.3594418401929405\n",
      "Ridge Regression: RMSE = 5.35945079345077\n",
      "Lasso Regression: RMSE = 5.767405839321374\n",
      "Decision Tree: RMSE = 7.076555064361993\n",
      "Random Forest: RMSE = 4.871606227605235\n",
      "Gradient Boosting: RMSE = 4.987242358245183\n",
      "Elastic Net: RMSE = 5.66861080535132\n",
      "SVR: RMSE = 5.021728838208683\n"
     ]
    }
   ],
   "source": [
    "# Train and test the models\n",
    "results = {}\n",
    "for name, model in models.items():\n",
    "    model.fit(X_train_scaled, y_train)\n",
    "    y_pred = model.predict(X_test_scaled)\n",
    "    mse = mean_squared_error(y_test, y_pred)\n",
    "    # Calculate RMSE\n",
    "    rmse = np.sqrt(mse)\n",
    "    results[name] = rmse\n",
    "\n",
    "# Results\n",
    "for name, rmse in results.items():\n",
    "    print(f'{name}: RMSE = {rmse}')"
   ]
  },
  {
   "cell_type": "markdown",
   "id": "bb175c8d",
   "metadata": {},
   "source": [
    "**- Random Forest model has the best performance while Gradient Boosting is the second best.**"
   ]
  },
  {
   "cell_type": "markdown",
   "id": "adff3ba7",
   "metadata": {},
   "source": [
    "## Random Forest Regression"
   ]
  },
  {
   "cell_type": "code",
   "execution_count": 8,
   "id": "d92cfa06",
   "metadata": {},
   "outputs": [
    {
     "name": "stdout",
     "output_type": "stream",
     "text": [
      "25.21776052449673 5.021728838208683\n"
     ]
    }
   ],
   "source": [
    "rf = RandomForestRegressor(n_estimators = 300, max_features = 'sqrt', max_depth = 5, random_state = 18)\n",
    "rf.fit(X_train, y_train)\n",
    "y_pred = rf.predict(X_test)\n",
    "mse_1 = mean_squared_error(y_test, y_pred)\n",
    "rmse = mse**.5\n",
    "\n",
    "print(mse, rmse)"
   ]
  },
  {
   "cell_type": "markdown",
   "id": "ac5bdf3c",
   "metadata": {},
   "source": [
    "### GridSearchCV"
   ]
  },
  {
   "cell_type": "markdown",
   "id": "7765abd9",
   "metadata": {},
   "source": [
    "**(a). Create/Train the model.**"
   ]
  },
  {
   "cell_type": "code",
   "execution_count": 9,
   "id": "5ae99b77",
   "metadata": {},
   "outputs": [
    {
     "name": "stdout",
     "output_type": "stream",
     "text": [
      "2024-06-27 22:11:44.575011\n",
      "2024-06-27 22:21:31.501016\n"
     ]
    }
   ],
   "source": [
    "# Define Grid \n",
    "grid = { \n",
    "    'n_estimators': [200,300,400],\n",
    "    'max_features': ['sqrt','log2'],\n",
    "    'max_depth' : [3,4,5,6,7,8,9],\n",
    "    'random_state' : [21]\n",
    "}\n",
    "# show start time\n",
    "print(datetime.now())\n",
    "# Grid Search function\n",
    "CV_rfr = GridSearchCV(estimator=RandomForestRegressor(), param_grid=grid, cv= 5)\n",
    "CV_rfr.fit(X_train, y_train)\n",
    "# show end time\n",
    "print(datetime.now())"
   ]
  },
  {
   "cell_type": "markdown",
   "id": "114c8abf",
   "metadata": {},
   "source": [
    "**- The model is expensive, as we see it took about 11 minutes to run.**"
   ]
  },
  {
   "cell_type": "code",
   "execution_count": 10,
   "id": "57cfecd0",
   "metadata": {},
   "outputs": [
    {
     "name": "stdout",
     "output_type": "stream",
     "text": [
      "Best parameters found by GridSearchCV:  {'max_depth': 9, 'max_features': 'sqrt', 'n_estimators': 300, 'random_state': 21}\n",
      "Best score from GridSearchCV:  0.4341585257433283\n"
     ]
    }
   ],
   "source": [
    "# Print the best parameters\n",
    "print(f\"Best parameters found by GridSearchCV: \", CV_rfr.best_params_)\n",
    "print(f\"Best score from GridSearchCV: \", CV_rfr.best_score_)"
   ]
  },
  {
   "cell_type": "markdown",
   "id": "20bdfb36",
   "metadata": {},
   "source": [
    "**(b). Evaluate the model.**"
   ]
  },
  {
   "cell_type": "code",
   "execution_count": 11,
   "id": "7179aed1",
   "metadata": {},
   "outputs": [
    {
     "name": "stdout",
     "output_type": "stream",
     "text": [
      "Test RMSE for GridSearchCV:  4.860469992848627\n",
      "Test R^2 score for GridSearchCV:  0.44701645091445996\n"
     ]
    }
   ],
   "source": [
    "# Evaluate the best model on the test set\n",
    "best_grid_model = CV_rfr.best_estimator_\n",
    "y_pred_grid = best_grid_model.predict(X_test)\n",
    "\n",
    "# Calculate RMSE\n",
    "rmse_grid = np.sqrt(mean_squared_error(y_test, y_pred_grid))\n",
    "\n",
    "# Calculate R^2 score\n",
    "r2_grid = r2_score(y_test, y_pred_grid)\n",
    "\n",
    "# Evaluation metrics\n",
    "print(\"Test RMSE for GridSearchCV: \", rmse_grid)\n",
    "print(\"Test R^2 score for GridSearchCV: \", r2_grid)"
   ]
  },
  {
   "cell_type": "code",
   "execution_count": 12,
   "id": "7a687f8b",
   "metadata": {},
   "outputs": [
    {
     "name": "stdout",
     "output_type": "stream",
     "text": [
      "4.860469992848627\n"
     ]
    }
   ],
   "source": [
    "# Create and train model using the above best parameters\n",
    "rf = RandomForestRegressor(n_estimators = 300, max_features = 'sqrt', max_depth = 9, random_state = 21)\n",
    "rf.fit(X_train, y_train)\n",
    "# Predict on test data\n",
    "y_pred = rf.predict(X_test)\n",
    "# Compute mean squared error\n",
    "mse = mean_squared_error(y_test, y_pred)\n",
    "# Print results\n",
    "print(mse**.5)"
   ]
  },
  {
   "cell_type": "code",
   "execution_count": null,
   "id": "36730cc5",
   "metadata": {},
   "outputs": [],
   "source": []
  },
  {
   "cell_type": "markdown",
   "id": "186a800a",
   "metadata": {},
   "source": [
    "## RandomSearchCV"
   ]
  },
  {
   "cell_type": "markdown",
   "id": "6bfadd57",
   "metadata": {},
   "source": [
    "**(a). Train/test the model.**"
   ]
  },
  {
   "cell_type": "code",
   "execution_count": 13,
   "id": "bb9340b8",
   "metadata": {},
   "outputs": [
    {
     "name": "stdout",
     "output_type": "stream",
     "text": [
      "Start time: 2024-06-27 22:21:37.103165\n",
      "Fitting 5 folds for each of 100 candidates, totalling 500 fits\n",
      "End time: 2024-06-27 22:28:36.350822\n",
      "Best parameters found:  {'max_depth': 9, 'max_features': 'sqrt', 'n_estimators': 393, 'random_state': 21}\n",
      "Best score:  0.43379214697641777\n"
     ]
    }
   ],
   "source": [
    "# Define parameters\n",
    "random_grid = { \n",
    "    'n_estimators': randint(200, 600),\n",
    "    'max_features': ['sqrt', 'log2'],\n",
    "    'max_depth': randint(3, 10),\n",
    "    'random_state': [21]\n",
    "}\n",
    "# Show start time\n",
    "print(\"Start time:\", datetime.now())\n",
    "\n",
    "# Perform random search\n",
    "r_search = RandomizedSearchCV(estimator=RandomForestRegressor(), \n",
    "                              param_distributions=random_grid, n_iter=100, cv=5, verbose=2, random_state=21, n_jobs=-1)\n",
    "r_search.fit(X_train, y_train)\n",
    "\n",
    "# Show end time\n",
    "print(\"End time:\", datetime.now())\n",
    "\n",
    "# Print the best parameters\n",
    "print(\"Best parameters found: \", r_search.best_params_)\n",
    "\n",
    "# Print the best score\n",
    "print(\"Best score: \", r_search.best_score_)"
   ]
  },
  {
   "cell_type": "markdown",
   "id": "e9d893ae",
   "metadata": {},
   "source": [
    "**(b). Evaluate the model.**"
   ]
  },
  {
   "cell_type": "code",
   "execution_count": 14,
   "id": "97655fa4",
   "metadata": {},
   "outputs": [
    {
     "name": "stdout",
     "output_type": "stream",
     "text": [
      "Test RMSE:  4.8578266080104875\n",
      "Test R^2 score:  0.4476177717097276\n"
     ]
    }
   ],
   "source": [
    "# Evaluate the best model on the test set\n",
    "best_model = r_search.best_estimator_\n",
    "y_pred = best_model.predict(X_test)\n",
    "\n",
    "# Calculate RMSE\n",
    "rmse = np.sqrt(mean_squared_error(y_test, y_pred))\n",
    "\n",
    "# Calculate R^2 score\n",
    "r2 = r2_score(y_test, y_pred)\n",
    "\n",
    "# Print evaluation metrics\n",
    "print(\"Test RMSE: \", rmse)\n",
    "print(\"Test R^2 score: \", r2)"
   ]
  }
 ],
 "metadata": {
  "kernelspec": {
   "display_name": "Python 3 (ipykernel)",
   "language": "python",
   "name": "python3"
  },
  "language_info": {
   "codemirror_mode": {
    "name": "ipython",
    "version": 3
   },
   "file_extension": ".py",
   "mimetype": "text/x-python",
   "name": "python",
   "nbconvert_exporter": "python",
   "pygments_lexer": "ipython3",
   "version": "3.11.7"
  }
 },
 "nbformat": 4,
 "nbformat_minor": 5
}
