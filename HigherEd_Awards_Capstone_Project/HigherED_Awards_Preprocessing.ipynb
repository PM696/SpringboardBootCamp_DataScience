{
 "cells": [
  {
   "cell_type": "markdown",
   "id": "5686b0fe",
   "metadata": {},
   "source": [
    "# Step 4: Pre-processing"
   ]
  },
  {
   "cell_type": "markdown",
   "id": "9dd2eed4",
   "metadata": {},
   "source": [
    "## Introduction"
   ]
  },
  {
   "cell_type": "markdown",
   "id": "b20d51af",
   "metadata": {},
   "source": [
    "## Imported Libraries and Packages"
   ]
  },
  {
   "cell_type": "code",
   "execution_count": 1,
   "id": "1429b450",
   "metadata": {},
   "outputs": [],
   "source": [
    "import numpy as np\n",
    "import pandas as pd\n",
    "import matplotlib.pyplot as plt\n",
    "import seaborn as sns\n",
    "%matplotlib inline\n",
    "import missingno as msno\n",
    "import warnings  \n",
    "warnings.simplefilter(action=\"ignore\", category=FutureWarning)\n",
    "warnings.filterwarnings(action=\"ignore\", module=\"scipy\")\n",
    "from sklearn import __version__ as sklearn_version\n",
    "from sklearn.decomposition import PCA\n",
    "from sklearn.preprocessing import scale\n",
    "from sklearn.model_selection import train_test_split, cross_validate, GridSearchCV, learning_curve\n",
    "from sklearn.preprocessing import StandardScaler, MinMaxScaler\n",
    "from sklearn.dummy import DummyRegressor\n",
    "from sklearn.linear_model import LinearRegression\n",
    "from sklearn.ensemble import RandomForestRegressor\n",
    "from sklearn.metrics import r2_score, mean_squared_error, mean_absolute_error\n",
    "from sklearn.pipeline import make_pipeline\n",
    "from sklearn.impute import SimpleImputer\n",
    "from sklearn.feature_selection import SelectKBest, f_regression"
   ]
  },
  {
   "cell_type": "markdown",
   "id": "155f3609",
   "metadata": {},
   "source": [
    "## Data"
   ]
  },
  {
   "cell_type": "code",
   "execution_count": 2,
   "id": "8a50829d",
   "metadata": {},
   "outputs": [
    {
     "name": "stdout",
     "output_type": "stream",
     "text": [
      "                             chronname        city    state   level control  \\\n",
      "0               Alabama A&M University      Normal  Alabama  4-year  Public   \n",
      "1  University of Alabama at Birmingham  Birmingham  Alabama  4-year  Public   \n",
      "\n",
      "                                               basic hbcu flagship  \\\n",
      "0  Masters Colleges and Universities--larger prog...  yes       no   \n",
      "1  Research Universities--very high research acti...   no       no   \n",
      "\n",
      "   student_count  awards_per_value  ...  pell_percentile  retain_value  \\\n",
      "0         4051.0              14.2  ...             98.0          63.1   \n",
      "1        11502.0              20.9  ...             39.0          80.2   \n",
      "\n",
      "   retain_percentile  ft_fac_value  ft_fac_percentile  state_sector_ct  \\\n",
      "0               17.0          82.8               89.0             13.0   \n",
      "1               70.0          92.4               98.0             13.0   \n",
      "\n",
      "   carnegie_ct  counted_pct  cohort_size  num_similar  \n",
      "0          386         99.7        882.0         20.0  \n",
      "1          106         56.0       1376.0         20.0  \n",
      "\n",
      "[2 rows x 40 columns]\n"
     ]
    }
   ],
   "source": [
    "df = pd.read_csv('collegedata_EDAd.csv')\n",
    "print(df.head(2))"
   ]
  },
  {
   "cell_type": "code",
   "execution_count": 3,
   "id": "ad184e4a",
   "metadata": {},
   "outputs": [
    {
     "name": "stdout",
     "output_type": "stream",
     "text": [
      "(3798, 40)\n"
     ]
    }
   ],
   "source": [
    "print(df.shape)"
   ]
  },
  {
   "cell_type": "code",
   "execution_count": 4,
   "id": "f0f3cff9",
   "metadata": {},
   "outputs": [
    {
     "name": "stdout",
     "output_type": "stream",
     "text": [
      "Index(['chronname', 'city', 'state', 'level', 'control', 'basic', 'hbcu',\n",
      "       'flagship', 'student_count', 'awards_per_value',\n",
      "       'awards_per_state_value', 'awards_per_natl_value', 'exp_award_value',\n",
      "       'exp_award_state_value', 'exp_award_natl_value', 'exp_award_percentile',\n",
      "       'ft_pct', 'fte_value', 'fte_percentile', 'med_sat_value',\n",
      "       'med_sat_percentile', 'aid_value', 'aid_percentile', 'endow_value',\n",
      "       'endow_percentile', 'grad_100_value', 'grad_100_percentile',\n",
      "       'grad_150_value', 'grad_150_percentile', 'pell_value',\n",
      "       'pell_percentile', 'retain_value', 'retain_percentile', 'ft_fac_value',\n",
      "       'ft_fac_percentile', 'state_sector_ct', 'carnegie_ct', 'counted_pct',\n",
      "       'cohort_size', 'num_similar'],\n",
      "      dtype='object')\n"
     ]
    }
   ],
   "source": [
    "print(df.columns)"
   ]
  },
  {
   "cell_type": "code",
   "execution_count": 5,
   "id": "995415b6",
   "metadata": {},
   "outputs": [
    {
     "name": "stdout",
     "output_type": "stream",
     "text": [
      "(3798, 37)\n"
     ]
    }
   ],
   "source": [
    "names_list = ['chronname', 'city', 'state']\n",
    "df.drop(columns=names_list, inplace=True)\n",
    "print(df.shape)"
   ]
  },
  {
   "cell_type": "code",
   "execution_count": 6,
   "id": "ee41ec54",
   "metadata": {},
   "outputs": [
    {
     "data": {
      "text/plain": [
       "array(['4-year', '2-year'], dtype=object)"
      ]
     },
     "execution_count": 6,
     "metadata": {},
     "output_type": "execute_result"
    }
   ],
   "source": [
    "df.level.unique()"
   ]
  },
  {
   "cell_type": "code",
   "execution_count": 7,
   "id": "e45d597a",
   "metadata": {},
   "outputs": [],
   "source": [
    "#Dummy encoding \n",
    "df = pd.get_dummies(df, columns=['level'], drop_first=False, prefix='level')\n",
    "\n",
    "#Rename\n",
    "df.rename(columns={\n",
    "    'level_2-year':'2_yr_inst',\n",
    "    'level_4-year':'4_yr_inst'\n",
    "}, inplace=True)"
   ]
  },
  {
   "cell_type": "code",
   "execution_count": 8,
   "id": "83caf482",
   "metadata": {},
   "outputs": [
    {
     "data": {
      "text/plain": [
       "array(['Public', 'Private not-for-profit', 'Private for-profit'],\n",
       "      dtype=object)"
      ]
     },
     "execution_count": 8,
     "metadata": {},
     "output_type": "execute_result"
    }
   ],
   "source": [
    "df.control.unique()"
   ]
  },
  {
   "cell_type": "code",
   "execution_count": 9,
   "id": "7595968e",
   "metadata": {},
   "outputs": [],
   "source": [
    "df = pd.get_dummies(df, columns=['control'], drop_first=False, prefix='c')\n",
    "#Rename\n",
    "df.rename(columns={\n",
    "    'c_Public':'public',\n",
    "    'c_Private not-for-profit':'private',\n",
    "    'c_Private for-profit':'private_fp'\n",
    "}, inplace=True)"
   ]
  },
  {
   "cell_type": "code",
   "execution_count": 10,
   "id": "57b24b63",
   "metadata": {},
   "outputs": [
    {
     "data": {
      "text/plain": [
       "array(['yes', 'no'], dtype=object)"
      ]
     },
     "execution_count": 10,
     "metadata": {},
     "output_type": "execute_result"
    }
   ],
   "source": [
    "df.hbcu.unique()"
   ]
  },
  {
   "cell_type": "code",
   "execution_count": 11,
   "id": "7509f80f",
   "metadata": {},
   "outputs": [],
   "source": [
    "df = pd.get_dummies(df, columns=['hbcu'], drop_first=False)"
   ]
  },
  {
   "cell_type": "code",
   "execution_count": 12,
   "id": "0b483053",
   "metadata": {},
   "outputs": [
    {
     "data": {
      "text/plain": [
       "array(['no', 'yes'], dtype=object)"
      ]
     },
     "execution_count": 12,
     "metadata": {},
     "output_type": "execute_result"
    }
   ],
   "source": [
    "df.flagship.unique()"
   ]
  },
  {
   "cell_type": "code",
   "execution_count": 13,
   "id": "0afebf4e",
   "metadata": {},
   "outputs": [],
   "source": [
    "df = pd.get_dummies(df, columns=['flagship'], drop_first=False)"
   ]
  },
  {
   "cell_type": "code",
   "execution_count": 14,
   "id": "a46a7b04",
   "metadata": {},
   "outputs": [
    {
     "name": "stdout",
     "output_type": "stream",
     "text": [
      "Index(['basic', 'student_count', 'awards_per_value', 'awards_per_state_value',\n",
      "       'awards_per_natl_value', 'exp_award_value', 'exp_award_state_value',\n",
      "       'exp_award_natl_value', 'exp_award_percentile', 'ft_pct', 'fte_value',\n",
      "       'fte_percentile', 'med_sat_value', 'med_sat_percentile', 'aid_value',\n",
      "       'aid_percentile', 'endow_value', 'endow_percentile', 'grad_100_value',\n",
      "       'grad_100_percentile', 'grad_150_value', 'grad_150_percentile',\n",
      "       'pell_value', 'pell_percentile', 'retain_value', 'retain_percentile',\n",
      "       'ft_fac_value', 'ft_fac_percentile', 'state_sector_ct', 'carnegie_ct',\n",
      "       'counted_pct', 'cohort_size', 'num_similar', '2_yr_inst', '4_yr_inst',\n",
      "       'private_fp', 'private', 'public', 'hbcu_no', 'hbcu_yes', 'flagship_no',\n",
      "       'flagship_yes'],\n",
      "      dtype='object')\n"
     ]
    }
   ],
   "source": [
    "print(df.columns)"
   ]
  },
  {
   "cell_type": "code",
   "execution_count": 15,
   "id": "1f7536ec",
   "metadata": {},
   "outputs": [
    {
     "name": "stdout",
     "output_type": "stream",
     "text": [
      "basic\n",
      "Associates--Private For-profit                                                  517\n",
      "Masters Colleges and Universities--larger programs                              386\n",
      "Baccalaureate Colleges--Diverse Fields                                          343\n",
      "Associates--Public Rural-serving Medium                                         289\n",
      "Baccalaureate Colleges--Arts & Sciences                                         252\n",
      "Masters Colleges and Universities--medium programs                              169\n",
      "Associates--Public Rural-serving Large                                          128\n",
      "Associates--Public Urban-serving Multicampus                                    125\n",
      "Baccalaureate/Associates Colleges                                               124\n",
      "Schools of art- music- and design                                               114\n",
      "Associates--Public Rural-serving Small                                          111\n",
      "Associates--Public Suburban-serving Single Campus                               106\n",
      "Theological seminaries- Bible colleges- and other faith-related institutions    106\n",
      "Masters Colleges and Universities--smaller programs                             106\n",
      "Research Universities--very high research activity                              106\n",
      "Associates--Public Suburban-serving Multicampus                                  99\n",
      "Research Universities--high research activity                                    96\n",
      "Associates--Private For-profit 4-year Primarily Associates                       83\n",
      "Not applicable- not in Carnegie universe                                         81\n",
      "Doctoral/Research Universities                                                   79\n",
      "Associates--Private Not-for-profit                                               73\n",
      "Other technology-related schools                                                 54\n",
      "Associates--Public 2-year colleges under 4-year universities                     47\n",
      "Other health professions schools                                                 43\n",
      "Schools of business and management                                               42\n",
      "Associates--Public 4-year Primarily Associates                                   34\n",
      "Tribal Colleges                                                                  33\n",
      "Associates--Public Urban-serving Single Campus                                   31\n",
      "Associates--Private Not-for-profit 4-year Primarily Associates                    7\n",
      "Other special-focus institutions                                                  5\n",
      "Associates--Public Special Use                                                    4\n",
      "Schools of engineering                                                            4\n",
      "Schools of law                                                                    1\n",
      "Name: count, dtype: int64\n"
     ]
    }
   ],
   "source": [
    "counts = df.basic.value_counts()\n",
    "print(counts)"
   ]
  },
  {
   "cell_type": "code",
   "execution_count": 16,
   "id": "8a484c34",
   "metadata": {},
   "outputs": [
    {
     "name": "stderr",
     "output_type": "stream",
     "text": [
      "C:\\Users\\MTIDES\\AppData\\Local\\Temp\\ipykernel_11960\\1496826063.py:3: SettingWithCopyWarning: \n",
      "A value is trying to be set on a copy of a slice from a DataFrame\n",
      "\n",
      "See the caveats in the documentation: https://pandas.pydata.org/pandas-docs/stable/user_guide/indexing.html#returning-a-view-versus-a-copy\n",
      "  df['basic'][mask] = 'Other'\n"
     ]
    },
    {
     "data": {
      "text/plain": [
       "array(['Masters Colleges and Universities--larger programs', 'Other',\n",
       "       'Baccalaureate Colleges--Arts & Sciences',\n",
       "       'Associates--Public Rural-serving Medium',\n",
       "       'Baccalaureate Colleges--Diverse Fields',\n",
       "       'Baccalaureate/Associates Colleges',\n",
       "       'Associates--Public Rural-serving Large',\n",
       "       'Associates--Public Urban-serving Multicampus',\n",
       "       'Masters Colleges and Universities--medium programs',\n",
       "       'Associates--Private For-profit'], dtype=object)"
      ]
     },
     "execution_count": 16,
     "metadata": {},
     "output_type": "execute_result"
    }
   ],
   "source": [
    "#Limit columns in 'basic'\n",
    "mask = df['basic'].isin(counts[counts <=114].index)\n",
    "df['basic'][mask] = 'Other'\n",
    "df.basic.unique()"
   ]
  },
  {
   "cell_type": "code",
   "execution_count": 17,
   "id": "2e33252c",
   "metadata": {},
   "outputs": [],
   "source": [
    "#Dummy encoding \n",
    "df = pd.get_dummies(df, columns=['basic'], drop_first=False, prefix='B')\n",
    "\n",
    "#Rename\n",
    "df.rename(columns={\n",
    "    'B_Masters Colleges and Universities--larger programs':'masters_lp',\n",
    "    'B_Baccalaureate Colleges--Arts & Sciences':'bachelors_as',\n",
    "    'B_Associates--Public Rural-serving Medium':'associates_pr_sm',\n",
    "    'B_Baccalaureate Colleges--Diverse Fields':'bacelors_df',\n",
    "    'B_Baccalaureate/Associates Colleges':'bachelors_associates',\n",
    "    'B_Associates--Public Rural-serving Large':'associates_pr_sl',\n",
    "    'B_Associates--Public Urban-serving Multicampus':'associates_pu_multi',\n",
    "    'B_Masters Colleges and Universities--medium programs':'masters_mp',\n",
    "    'B_Associates--Private For-profit':'associates_privatefp',\n",
    "    'B_Other':'Other_institutions'\n",
    "}, inplace=True)"
   ]
  },
  {
   "cell_type": "code",
   "execution_count": 18,
   "id": "140ed366",
   "metadata": {},
   "outputs": [
    {
     "name": "stdout",
     "output_type": "stream",
     "text": [
      "<class 'pandas.core.frame.DataFrame'>\n",
      "RangeIndex: 3798 entries, 0 to 3797\n",
      "Data columns (total 41 columns):\n",
      " #   Column                  Non-Null Count  Dtype  \n",
      "---  ------                  --------------  -----  \n",
      " 0   student_count           3413 non-null   float64\n",
      " 1   awards_per_value        3532 non-null   float64\n",
      " 2   awards_per_state_value  3313 non-null   float64\n",
      " 3   awards_per_natl_value   2407 non-null   float64\n",
      " 4   exp_award_value         3580 non-null   float64\n",
      " 5   exp_award_state_value   3657 non-null   float64\n",
      " 6   exp_award_natl_value    3798 non-null   int64  \n",
      " 7   ft_pct                  3798 non-null   float64\n",
      " 8   fte_value               3417 non-null   float64\n",
      " 9   med_sat_value           2461 non-null   float64\n",
      " 10  aid_value               3425 non-null   float64\n",
      " 11  endow_value             3616 non-null   float64\n",
      " 12  grad_100_value          3750 non-null   float64\n",
      " 13  grad_150_value          3798 non-null   float64\n",
      " 14  pell_value              3798 non-null   float64\n",
      " 15  retain_value            3723 non-null   float64\n",
      " 16  ft_fac_value            3798 non-null   float64\n",
      " 17  state_sector_ct         3569 non-null   float64\n",
      " 18  carnegie_ct             3798 non-null   int64  \n",
      " 19  counted_pct             3797 non-null   float64\n",
      " 20  cohort_size             3436 non-null   float64\n",
      " 21  num_similar             3579 non-null   float64\n",
      " 22  2_yr_inst               3798 non-null   bool   \n",
      " 23  4_yr_inst               3798 non-null   bool   \n",
      " 24  private_fp              3798 non-null   bool   \n",
      " 25  private                 3798 non-null   bool   \n",
      " 26  public                  3798 non-null   bool   \n",
      " 27  hbcu_no                 3798 non-null   bool   \n",
      " 28  hbcu_yes                3798 non-null   bool   \n",
      " 29  flagship_no             3798 non-null   bool   \n",
      " 30  flagship_yes            3798 non-null   bool   \n",
      " 31  associates_privatefp    3798 non-null   bool   \n",
      " 32  associates_pr_sl        3798 non-null   bool   \n",
      " 33  associates_pr_sm        3798 non-null   bool   \n",
      " 34  associates_pu_multi     3798 non-null   bool   \n",
      " 35  bachelors_as            3798 non-null   bool   \n",
      " 36  bacelors_df             3798 non-null   bool   \n",
      " 37  bachelors_associates    3798 non-null   bool   \n",
      " 38  masters_lp              3798 non-null   bool   \n",
      " 39  masters_mp              3798 non-null   bool   \n",
      " 40  Other_institutions      3798 non-null   bool   \n",
      "dtypes: bool(19), float64(20), int64(2)\n",
      "memory usage: 723.4 KB\n",
      "None\n"
     ]
    }
   ],
   "source": [
    "columns_to_drop = ['exp_award_percentile', 'fte_percentile', 'aid_percentile', 'endow_percentile', 'med_sat_percentile', \n",
    "                   'grad_100_percentile', 'grad_150_percentile', 'pell_percentile', 'retain_percentile', 'ft_fac_percentile']\n",
    "df = df.drop(columns=columns_to_drop)\n",
    "print(df.info())"
   ]
  },
  {
   "cell_type": "markdown",
   "id": "7e4c1d6d",
   "metadata": {},
   "source": [
    "## Target Variable"
   ]
  },
  {
   "cell_type": "code",
   "execution_count": 19,
   "id": "1e50c90d",
   "metadata": {},
   "outputs": [
    {
     "data": {
      "text/plain": [
       "count    3532.000000\n",
       "mean       21.491110\n",
       "std         6.849469\n",
       "min         3.600000\n",
       "25%        17.000000\n",
       "50%        20.900000\n",
       "75%        25.025000\n",
       "max        40.300000\n",
       "Name: awards_per_value, dtype: float64"
      ]
     },
     "execution_count": 19,
     "metadata": {},
     "output_type": "execute_result"
    }
   ],
   "source": [
    "df['awards_per_value'].describe()"
   ]
  },
  {
   "cell_type": "code",
   "execution_count": 20,
   "id": "b644fc82",
   "metadata": {},
   "outputs": [
    {
     "data": {
      "image/png": "[encoded data removed]",
      "text/plain": [
       "<Figure size 640x480 with 1 Axes>"
      ]
     },
     "metadata": {},
     "output_type": "display_data"
    }
   ],
   "source": [
    "plt.hist(df['awards_per_value'], bins=40)\n",
    "plt.show();"
   ]
  },
  {
   "cell_type": "code",
   "execution_count": null,
   "id": "c5f50517",
   "metadata": {},
   "outputs": [],
   "source": []
  }
 ],
 "metadata": {
  "kernelspec": {
   "display_name": "Python 3 (ipykernel)",
   "language": "python",
   "name": "python3"
  },
  "language_info": {
   "codemirror_mode": {
    "name": "ipython",
    "version": 3
   },
   "file_extension": ".py",
   "mimetype": "text/x-python",
   "name": "python",
   "nbconvert_exporter": "python",
   "pygments_lexer": "ipython3",
   "version": "3.11.7"
  }
 },
 "nbformat": 4,
 "nbformat_minor": 5
}
