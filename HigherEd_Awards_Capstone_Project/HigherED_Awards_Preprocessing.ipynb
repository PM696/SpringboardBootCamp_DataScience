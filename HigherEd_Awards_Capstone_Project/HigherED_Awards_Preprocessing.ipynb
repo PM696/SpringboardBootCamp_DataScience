{
 "cells": [
  {
   "cell_type": "markdown",
   "id": "5686b0fe",
   "metadata": {},
   "source": [
    "# Step 4: Pre-processing"
   ]
  },
  {
   "cell_type": "markdown",
   "id": "9dd2eed4",
   "metadata": {},
   "source": [
    "## Introduction"
   ]
  },
  {
   "cell_type": "markdown",
   "id": "b20d51af",
   "metadata": {},
   "source": [
    "## Imported Libraries and Packages"
   ]
  },
  {
   "cell_type": "code",
   "execution_count": 1,
   "id": "1429b450",
   "metadata": {},
   "outputs": [],
   "source": [
    "import numpy as np\n",
    "import pandas as pd\n",
    "import matplotlib.pyplot as plt\n",
    "import seaborn as sns\n",
    "%matplotlib inline\n",
    "import missingno as msno\n",
    "import warnings  \n",
    "warnings.simplefilter(action=\"ignore\", category=FutureWarning)\n",
    "warnings.filterwarnings(action=\"ignore\", module=\"scipy\")\n",
    "from sklearn import __version__ as sklearn_version\n",
    "from sklearn.decomposition import PCA\n",
    "from sklearn.preprocessing import scale\n",
    "from sklearn.model_selection import train_test_split, cross_validate, GridSearchCV, learning_curve\n",
    "from sklearn.preprocessing import StandardScaler, MinMaxScaler\n",
    "from sklearn.dummy import DummyRegressor\n",
    "from sklearn.linear_model import LinearRegression\n",
    "from sklearn.ensemble import RandomForestRegressor\n",
    "from sklearn.metrics import r2_score, mean_squared_error, mean_absolute_error\n",
    "from sklearn.pipeline import make_pipeline\n",
    "from sklearn.impute import SimpleImputer\n",
    "from sklearn.feature_selection import SelectKBest, f_regression"
   ]
  },
  {
   "cell_type": "markdown",
   "id": "155f3609",
   "metadata": {},
   "source": [
    "## Data"
   ]
  },
  {
   "cell_type": "code",
   "execution_count": 3,
   "id": "8a50829d",
   "metadata": {},
   "outputs": [
    {
     "name": "stdout",
     "output_type": "stream",
     "text": [
      "                             chronname        city    state   level control  \\\n",
      "0               Alabama A&M University      Normal  Alabama  4-year  Public   \n",
      "1  University of Alabama at Birmingham  Birmingham  Alabama  4-year  Public   \n",
      "\n",
      "                                               basic hbcu flagship  \\\n",
      "0  Masters Colleges and Universities--larger prog...    X       no   \n",
      "1  Research Universities--very high research acti...   no       no   \n",
      "\n",
      "   student_count  awards_per_value  ...  grad_100_value  grad_150_value  \\\n",
      "0           4051              14.2  ...            10.0            29.1   \n",
      "1          11502              20.9  ...            29.4            53.5   \n",
      "\n",
      "   pell_value  retain_value  ft_fac_value  state_sector_ct  carnegie_ct  \\\n",
      "0        71.2          63.1          82.8               13          386   \n",
      "1        35.1          80.2          92.4               13          106   \n",
      "\n",
      "   counted_pct  cohort_size  num_similar  \n",
      "0         99.7        882.0         20.0  \n",
      "1         56.0       1376.0         20.0  \n",
      "\n",
      "[2 rows x 30 columns]\n"
     ]
    }
   ],
   "source": [
    "df = pd.read_csv('collegedata_EDAd.csv')\n",
    "print(df.head(2))"
   ]
  },
  {
   "cell_type": "code",
   "execution_count": 3,
   "id": "ad184e4a",
   "metadata": {},
   "outputs": [
    {
     "name": "stdout",
     "output_type": "stream",
     "text": [
      "(3798, 30)\n"
     ]
    }
   ],
   "source": [
    "print(df.shape)"
   ]
  },
  {
   "cell_type": "code",
   "execution_count": null,
   "id": "f0f3cff9",
   "metadata": {},
   "outputs": [],
   "source": []
  }
 ],
 "metadata": {
  "kernelspec": {
   "display_name": "Python 3 (ipykernel)",
   "language": "python",
   "name": "python3"
  },
  "language_info": {
   "codemirror_mode": {
    "name": "ipython",
    "version": 3
   },
   "file_extension": ".py",
   "mimetype": "text/x-python",
   "name": "python",
   "nbconvert_exporter": "python",
   "pygments_lexer": "ipython3",
   "version": "3.11.7"
  }
 },
 "nbformat": 4,
 "nbformat_minor": 5
}
