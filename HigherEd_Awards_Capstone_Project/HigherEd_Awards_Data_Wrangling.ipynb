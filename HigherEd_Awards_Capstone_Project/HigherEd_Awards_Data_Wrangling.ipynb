{
 "cells": [
  {
   "cell_type": "markdown",
   "id": "10251b8a",
   "metadata": {},
   "source": [
    "# Step 2: Data Wrangling"
   ]
  },
  {
   "cell_type": "markdown",
   "id": "ea85ec3a",
   "metadata": {},
   "source": [
    "## Project Goal:"
   ]
  },
  {
   "cell_type": "markdown",
   "id": "c1039d0c",
   "metadata": {},
   "source": [
    "**To develop a model that can predict the number of awards per 100 Full-Time Undergraduates with high accuracy.** \n",
    "The features included institutional characteristics."
   ]
  },
  {
   "cell_type": "markdown",
   "id": "f3a68ccb",
   "metadata": {},
   "source": [
    "## Data Source: "
   ]
  },
  {
   "cell_type": "markdown",
   "id": "e083d94e",
   "metadata": {},
   "source": [
    "Data were retrieved from “College Completion Dataset” that was available at https://www.kaggle.com/datasets/thedevastator/boost-student-success-with-college-completion-da/data?select=cc_institution_details.csv . This dataset was originally authored by Jonathan Ortiz (see https://data.world/databeats). The dataset was available for public use without copyright violations."
   ]
  },
  {
   "cell_type": "markdown",
   "id": "ec3c002b",
   "metadata": {},
   "source": [
    "## Definition of Data Features"
   ]
  },
  {
   "cell_type": "markdown",
   "id": "b693b4d5",
   "metadata": {},
   "source": [
    "   - **chronname**: The name of the college or university. \n",
    "   - **city:** The city in which the college is located. \n",
    "   - **state:** The state in which the college is located. \n",
    "   - **control:** The type of college (public or private). \n",
    "   - **basic:** A flag indicating whether the college is a basic institution. \n",
    "   - **hbcu:** A flag indicating whether the college is a historically black college or university. \n",
    "   - **flagship:** A flag indicating whether the college is a flagship institution. \n",
    "   - **long_x:** The longitude of the college. \n",
    "   - **lat_y:** The latitude of the college. \n",
    "   - **site:** The website of the college. \n",
    "   - **student_count:** The number of students enrolled at the college. \n",
    "   - **awards_per_state_value:** The number of awards per 100 full-time undergraduates compared to the state average.\n",
    "   - **awards_per_natl_value:** The number of awards per 100 full-time undergraduates compared to the national average. \n",
    "   - **exp_award_value:** The amount of money spent per award. \n",
    "   - **exp_award_state_value:** The amount of money spent per award compared to the state average. \n",
    "   - **exp_award_natl_value:** The amount of money spent per award compared to the national average. \n",
    "   - **exp_award_percentile:** The percentile of the amount of money spent per award compared to other colleges. \n",
    "   - **ft_pct:** The percentage of full-time students. \n",
    "   - **fte_value:** The number of full-time equivalent students. \n",
    "   - **fte_percentile:** The percentile of the number of full-time equivalent students compared to other colleges.\n",
    "   - **med_sat_value:** Median SAT score among first time students.            \n",
    "   - **med_sat_percentile:** \n",
    "   - **aid_value:** The average amount in financial aid.          \n",
    "   - **aid_percentile:** The financial aid percentage.        \n",
    "   - **endow_value:** The endowment values.        \n",
    "   - **endow_percentile:** Percentage in endowment.   \n",
    "   - **grad_100_value:** The number of students who graduated within 100% of normal time.     \n",
    "   - **grad_100_percentile:** The percentage of students who graduated within 100% of normal time.   \n",
    "   - **grad_150_value:** The number of students who graduated within 150% of normal time.       \n",
    "   - **grad_150_percentile:** The percentage of students who graduated within 150% of normal time.   \n",
    "   - **pell_value:** The amount of funds under Pell grant.        \n",
    "   - **pell_percentile:** The percentage of Pell grant.   \n",
    "   - **retain_value:** The number of students retained in the same institution.       \n",
    "   - **retain_percentile:** The retention percentage.\n",
    "   - **vsa_grad_elsewhere_after6_first:** The number of students who graduated from another institution after 6 years of first enrollment. \n",
    "   - **vsa_enroll_after6_first:** The number of students who enrolled after 6 years of first enrollment. \n",
    "   - **vsa_enroll_elsewhere_after6_first:** The number of students who enrolled at another institution after 6 years of first enrollment. \n",
    "   - **vsa_grad_after4_transfer:** The number of students who graduated after 4 years of transfer enrollment. \n",
    "   - **vsa_grad_elsewhere_after4_transfer:** The number of students who graduated from another institution after 4 years of transfer enrollment. \n",
    "   - **vsa_enroll_after4_transfer:** The number of students who enrolled after 4 years of transfer enrollment.\n",
    "   - **vsa_enroll_elsewhere_after4_transfer:** The number of students who enrolled at another institution after 4 years of transfer enrollment. \n",
    "   - **vsa_grad_after6_transfer:** The number of students who graduated after 6 years of transfer enrollment.\n",
    "   - **vsa_grad_elsewhere_after6_transfer:** The number of students who graduated from another institution after 6 years of transfer enrollment. \n",
    "   - **vsa_enroll_after6_transfer:** The number of students who enrolled after 6 years of transfer enrollment.\n",
    "   - **vsa_enroll_elsewhere_after6_transfer:** The number of students who enrolled at another institution after 6 years of transfer enrollment. \n",
    "   - **similar:** A flag indicating whether the college is similar to other colleges in the dataset. \n",
    "   - **state_sector_ct:** The number of colleges in the same state and sector. \n",
    "   - **carnegie_ct:** The number of colleges in the same Carnegie classification. \n",
    "   - **counted_pct:** The percentage of students who are counted in the dataset. \n",
    "   - **cohort_size:** The size of the cohort. "
   ]
  },
  {
   "cell_type": "markdown",
   "id": "695907e7",
   "metadata": {},
   "source": [
    "## Objective"
   ]
  },
  {
   "cell_type": "markdown",
   "id": "9dc000a4",
   "metadata": {},
   "source": [
    "Load the dataset from the CSV file and clean it for future exploration and modelling."
   ]
  },
  {
   "cell_type": "markdown",
   "id": "3e330c7a",
   "metadata": {},
   "source": [
    "## Packages and Libraries"
   ]
  },
  {
   "cell_type": "code",
   "execution_count": 1,
   "id": "0f42c0a6",
   "metadata": {},
   "outputs": [],
   "source": [
    "#Import packages and libraries\n",
    "import pandas as pd\n",
    "import matplotlib.pyplot as plt\n",
    "import seaborn as sns\n",
    "import numpy as np\n",
    "import missingno as msno"
   ]
  },
  {
   "cell_type": "markdown",
   "id": "a5fd9c24",
   "metadata": {},
   "source": [
    "## Data "
   ]
  },
  {
   "cell_type": "code",
   "execution_count": 2,
   "id": "24fc2cee",
   "metadata": {},
   "outputs": [
    {
     "name": "stdout",
     "output_type": "stream",
     "text": [
      "   unitid                            chronname        city    state   level  \\\n",
      "0  100654               Alabama A&M University      Normal  Alabama  4-year   \n",
      "1  100663  University of Alabama at Birmingham  Birmingham  Alabama  4-year   \n",
      "\n",
      "  control                                              basic hbcu flagship  \\\n",
      "0  Public  Masters Colleges and Universities--larger prog...    X      NaN   \n",
      "1  Public  Research Universities--very high research acti...  NaN      NaN   \n",
      "\n",
      "      long_x  ...  vsa_grad_after6_transfer  \\\n",
      "0 -86.568502  ...                      36.4   \n",
      "1 -86.809170  ...                       NaN   \n",
      "\n",
      "  vsa_grad_elsewhere_after6_transfer  vsa_enroll_after6_transfer  \\\n",
      "0                                5.6                        17.2   \n",
      "1                                NaN                         NaN   \n",
      "\n",
      "   vsa_enroll_elsewhere_after6_transfer  \\\n",
      "0                                  11.1   \n",
      "1                                   NaN   \n",
      "\n",
      "                                             similar  state_sector_ct  \\\n",
      "0  232937|100724|405997|113607|139533|144005|2285...               13   \n",
      "1  196060|180461|201885|145600|209542|236939|1268...               13   \n",
      "\n",
      "   carnegie_ct  counted_pct  nicknames  cohort_size  \n",
      "0          386      99.7|07        NaN        882.0  \n",
      "1          106      56.0|07        UAB       1376.0  \n",
      "\n",
      "[2 rows x 62 columns]\n"
     ]
    }
   ],
   "source": [
    "#Load the dataset\n",
    "data = pd.read_csv('cc_institution_details.csv')\n",
    "\n",
    "#Copy the dataset\n",
    "df = data.copy()\n",
    "#Drop the 'index' column\n",
    "df = df.drop(columns=['index'])\n",
    "#Display first 2 rows\n",
    "print(df.head(2))"
   ]
  },
  {
   "cell_type": "code",
   "execution_count": 3,
   "id": "2ae0962e",
   "metadata": {},
   "outputs": [
    {
     "name": "stdout",
     "output_type": "stream",
     "text": [
      "(3798, 62)\n"
     ]
    }
   ],
   "source": [
    "print(df.shape)"
   ]
  },
  {
   "cell_type": "code",
   "execution_count": 4,
   "id": "2be00d00",
   "metadata": {},
   "outputs": [
    {
     "name": "stdout",
     "output_type": "stream",
     "text": [
      "<class 'pandas.core.frame.DataFrame'>\n",
      "RangeIndex: 3798 entries, 0 to 3797\n",
      "Data columns (total 62 columns):\n",
      " #   Column                                Non-Null Count  Dtype  \n",
      "---  ------                                --------------  -----  \n",
      " 0   unitid                                3798 non-null   int64  \n",
      " 1   chronname                             3798 non-null   object \n",
      " 2   city                                  3798 non-null   object \n",
      " 3   state                                 3798 non-null   object \n",
      " 4   level                                 3798 non-null   object \n",
      " 5   control                               3798 non-null   object \n",
      " 6   basic                                 3798 non-null   object \n",
      " 7   hbcu                                  94 non-null     object \n",
      " 8   flagship                              50 non-null     object \n",
      " 9   long_x                                3798 non-null   float64\n",
      " 10  lat_y                                 3798 non-null   float64\n",
      " 11  site                                  3779 non-null   object \n",
      " 12  student_count                         3798 non-null   int64  \n",
      " 13  awards_per_value                      3798 non-null   float64\n",
      " 14  awards_per_state_value                3798 non-null   float64\n",
      " 15  awards_per_natl_value                 3798 non-null   float64\n",
      " 16  exp_award_value                       3798 non-null   int64  \n",
      " 17  exp_award_state_value                 3798 non-null   int64  \n",
      " 18  exp_award_natl_value                  3798 non-null   int64  \n",
      " 19  exp_award_percentile                  3798 non-null   int64  \n",
      " 20  ft_pct                                3794 non-null   float64\n",
      " 21  fte_value                             3798 non-null   int64  \n",
      " 22  fte_percentile                        3798 non-null   int64  \n",
      " 23  med_sat_value                         1337 non-null   float64\n",
      " 24  med_sat_percentile                    1337 non-null   float64\n",
      " 25  aid_value                             3797 non-null   float64\n",
      " 26  aid_percentile                        3797 non-null   float64\n",
      " 27  endow_value                           2323 non-null   float64\n",
      " 28  endow_percentile                      2323 non-null   float64\n",
      " 29  grad_100_value                        3467 non-null   float64\n",
      " 30  grad_100_percentile                   3467 non-null   float64\n",
      " 31  grad_150_value                        3467 non-null   float64\n",
      " 32  grad_150_percentile                   3467 non-null   float64\n",
      " 33  pell_value                            3797 non-null   float64\n",
      " 34  pell_percentile                       3797 non-null   float64\n",
      " 35  retain_value                          3535 non-null   float64\n",
      " 36  retain_percentile                     3535 non-null   float64\n",
      " 37  ft_fac_value                          3785 non-null   float64\n",
      " 38  ft_fac_percentile                     3785 non-null   float64\n",
      " 39  vsa_year                              279 non-null    float64\n",
      " 40  vsa_grad_after4_first                 279 non-null    float64\n",
      " 41  vsa_grad_elsewhere_after4_first       279 non-null    float64\n",
      " 42  vsa_enroll_after4_first               279 non-null    float64\n",
      " 43  vsa_enroll_elsewhere_after4_first     279 non-null    float64\n",
      " 44  vsa_grad_after6_first                 279 non-null    float64\n",
      " 45  vsa_grad_elsewhere_after6_first       279 non-null    float64\n",
      " 46  vsa_enroll_after6_first               279 non-null    float64\n",
      " 47  vsa_enroll_elsewhere_after6_first     279 non-null    float64\n",
      " 48  vsa_grad_after4_transfer              270 non-null    float64\n",
      " 49  vsa_grad_elsewhere_after4_transfer    270 non-null    float64\n",
      " 50  vsa_enroll_after4_transfer            270 non-null    float64\n",
      " 51  vsa_enroll_elsewhere_after4_transfer  270 non-null    float64\n",
      " 52  vsa_grad_after6_transfer              270 non-null    float64\n",
      " 53  vsa_grad_elsewhere_after6_transfer    270 non-null    float64\n",
      " 54  vsa_enroll_after6_transfer            270 non-null    float64\n",
      " 55  vsa_enroll_elsewhere_after6_transfer  270 non-null    float64\n",
      " 56  similar                               3579 non-null   object \n",
      " 57  state_sector_ct                       3798 non-null   int64  \n",
      " 58  carnegie_ct                           3798 non-null   int64  \n",
      " 59  counted_pct                           3372 non-null   object \n",
      " 60  nicknames                             310 non-null    object \n",
      " 61  cohort_size                           3467 non-null   float64\n",
      "dtypes: float64(40), int64(10), object(12)\n",
      "memory usage: 1.8+ MB\n",
      "None\n"
     ]
    }
   ],
   "source": [
    "print(df.info())"
   ]
  },
  {
   "cell_type": "code",
   "execution_count": 5,
   "id": "0032fdae",
   "metadata": {},
   "outputs": [],
   "source": [
    "#Convert columns to 'objects'\n",
    "columns_1 = ['unitid', 'long_x', 'lat_y', 'vsa_year']\n",
    "df[columns_1] = df[columns_1].astype(object)"
   ]
  },
  {
   "cell_type": "code",
   "execution_count": 6,
   "id": "d7545e84",
   "metadata": {},
   "outputs": [
    {
     "name": "stdout",
     "output_type": "stream",
     "text": [
      "0     99.7\n",
      "1     56.0\n",
      "2    100.0\n",
      "3     43.1\n",
      "4     88.0\n",
      "Name: counted_pct, dtype: float64\n"
     ]
    }
   ],
   "source": [
    "#Split the values in 'counted_pct' column by the | symbol and keep the first part then\n",
    "#Convert to a float\n",
    "df['counted_pct']= df['counted_pct'].str.split('|').str[0].astype(float)\n",
    "print(df['counted_pct'].head())"
   ]
  },
  {
   "cell_type": "markdown",
   "id": "eefd85e1",
   "metadata": {},
   "source": [
    "## Duplicate Values"
   ]
  },
  {
   "cell_type": "code",
   "execution_count": 7,
   "id": "cd7ef5d5",
   "metadata": {},
   "outputs": [
    {
     "name": "stdout",
     "output_type": "stream",
     "text": [
      "False    3798\n",
      "Name: count, dtype: int64\n"
     ]
    }
   ],
   "source": [
    "print(df.duplicated().value_counts())"
   ]
  },
  {
   "cell_type": "markdown",
   "id": "175652f9",
   "metadata": {},
   "source": [
    "Great! There are no duplicate records in the dataset."
   ]
  },
  {
   "cell_type": "markdown",
   "id": "c34e9709",
   "metadata": {},
   "source": [
    "## Missing Values by Column"
   ]
  },
  {
   "cell_type": "code",
   "execution_count": 8,
   "id": "d56cfc04",
   "metadata": {},
   "outputs": [
    {
     "data": {
      "text/html": [
       "<div>\n",
       "<style scoped>\n",
       "    .dataframe tbody tr th:only-of-type {\n",
       "        vertical-align: middle;\n",
       "    }\n",
       "\n",
       "    .dataframe tbody tr th {\n",
       "        vertical-align: top;\n",
       "    }\n",
       "\n",
       "    .dataframe thead th {\n",
       "        text-align: right;\n",
       "    }\n",
       "</style>\n",
       "<table border=\"1\" class=\"dataframe\">\n",
       "  <thead>\n",
       "    <tr style=\"text-align: right;\">\n",
       "      <th></th>\n",
       "      <th>count</th>\n",
       "      <th>%</th>\n",
       "    </tr>\n",
       "  </thead>\n",
       "  <tbody>\n",
       "    <tr>\n",
       "      <th>flagship</th>\n",
       "      <td>3748</td>\n",
       "      <td>98.683518</td>\n",
       "    </tr>\n",
       "    <tr>\n",
       "      <th>hbcu</th>\n",
       "      <td>3704</td>\n",
       "      <td>97.525013</td>\n",
       "    </tr>\n",
       "    <tr>\n",
       "      <th>vsa_enroll_elsewhere_after4_transfer</th>\n",
       "      <td>3528</td>\n",
       "      <td>92.890995</td>\n",
       "    </tr>\n",
       "    <tr>\n",
       "      <th>vsa_grad_elsewhere_after4_transfer</th>\n",
       "      <td>3528</td>\n",
       "      <td>92.890995</td>\n",
       "    </tr>\n",
       "    <tr>\n",
       "      <th>vsa_enroll_after4_transfer</th>\n",
       "      <td>3528</td>\n",
       "      <td>92.890995</td>\n",
       "    </tr>\n",
       "    <tr>\n",
       "      <th>vsa_grad_after4_transfer</th>\n",
       "      <td>3528</td>\n",
       "      <td>92.890995</td>\n",
       "    </tr>\n",
       "    <tr>\n",
       "      <th>vsa_grad_after6_transfer</th>\n",
       "      <td>3528</td>\n",
       "      <td>92.890995</td>\n",
       "    </tr>\n",
       "    <tr>\n",
       "      <th>vsa_grad_elsewhere_after6_transfer</th>\n",
       "      <td>3528</td>\n",
       "      <td>92.890995</td>\n",
       "    </tr>\n",
       "    <tr>\n",
       "      <th>vsa_enroll_after6_transfer</th>\n",
       "      <td>3528</td>\n",
       "      <td>92.890995</td>\n",
       "    </tr>\n",
       "    <tr>\n",
       "      <th>vsa_enroll_elsewhere_after6_transfer</th>\n",
       "      <td>3528</td>\n",
       "      <td>92.890995</td>\n",
       "    </tr>\n",
       "    <tr>\n",
       "      <th>vsa_enroll_elsewhere_after6_first</th>\n",
       "      <td>3519</td>\n",
       "      <td>92.654028</td>\n",
       "    </tr>\n",
       "    <tr>\n",
       "      <th>vsa_enroll_after6_first</th>\n",
       "      <td>3519</td>\n",
       "      <td>92.654028</td>\n",
       "    </tr>\n",
       "    <tr>\n",
       "      <th>vsa_grad_elsewhere_after6_first</th>\n",
       "      <td>3519</td>\n",
       "      <td>92.654028</td>\n",
       "    </tr>\n",
       "    <tr>\n",
       "      <th>vsa_grad_after6_first</th>\n",
       "      <td>3519</td>\n",
       "      <td>92.654028</td>\n",
       "    </tr>\n",
       "    <tr>\n",
       "      <th>vsa_enroll_elsewhere_after4_first</th>\n",
       "      <td>3519</td>\n",
       "      <td>92.654028</td>\n",
       "    </tr>\n",
       "    <tr>\n",
       "      <th>vsa_enroll_after4_first</th>\n",
       "      <td>3519</td>\n",
       "      <td>92.654028</td>\n",
       "    </tr>\n",
       "    <tr>\n",
       "      <th>vsa_grad_elsewhere_after4_first</th>\n",
       "      <td>3519</td>\n",
       "      <td>92.654028</td>\n",
       "    </tr>\n",
       "    <tr>\n",
       "      <th>vsa_grad_after4_first</th>\n",
       "      <td>3519</td>\n",
       "      <td>92.654028</td>\n",
       "    </tr>\n",
       "    <tr>\n",
       "      <th>vsa_year</th>\n",
       "      <td>3519</td>\n",
       "      <td>92.654028</td>\n",
       "    </tr>\n",
       "    <tr>\n",
       "      <th>nicknames</th>\n",
       "      <td>3488</td>\n",
       "      <td>91.837809</td>\n",
       "    </tr>\n",
       "    <tr>\n",
       "      <th>med_sat_value</th>\n",
       "      <td>2461</td>\n",
       "      <td>64.797262</td>\n",
       "    </tr>\n",
       "    <tr>\n",
       "      <th>med_sat_percentile</th>\n",
       "      <td>2461</td>\n",
       "      <td>64.797262</td>\n",
       "    </tr>\n",
       "    <tr>\n",
       "      <th>endow_value</th>\n",
       "      <td>1475</td>\n",
       "      <td>38.836230</td>\n",
       "    </tr>\n",
       "    <tr>\n",
       "      <th>endow_percentile</th>\n",
       "      <td>1475</td>\n",
       "      <td>38.836230</td>\n",
       "    </tr>\n",
       "    <tr>\n",
       "      <th>counted_pct</th>\n",
       "      <td>426</td>\n",
       "      <td>11.216430</td>\n",
       "    </tr>\n",
       "    <tr>\n",
       "      <th>grad_100_percentile</th>\n",
       "      <td>331</td>\n",
       "      <td>8.715113</td>\n",
       "    </tr>\n",
       "    <tr>\n",
       "      <th>grad_100_value</th>\n",
       "      <td>331</td>\n",
       "      <td>8.715113</td>\n",
       "    </tr>\n",
       "    <tr>\n",
       "      <th>cohort_size</th>\n",
       "      <td>331</td>\n",
       "      <td>8.715113</td>\n",
       "    </tr>\n",
       "    <tr>\n",
       "      <th>grad_150_value</th>\n",
       "      <td>331</td>\n",
       "      <td>8.715113</td>\n",
       "    </tr>\n",
       "    <tr>\n",
       "      <th>grad_150_percentile</th>\n",
       "      <td>331</td>\n",
       "      <td>8.715113</td>\n",
       "    </tr>\n",
       "    <tr>\n",
       "      <th>retain_value</th>\n",
       "      <td>263</td>\n",
       "      <td>6.924697</td>\n",
       "    </tr>\n",
       "    <tr>\n",
       "      <th>retain_percentile</th>\n",
       "      <td>263</td>\n",
       "      <td>6.924697</td>\n",
       "    </tr>\n",
       "    <tr>\n",
       "      <th>similar</th>\n",
       "      <td>219</td>\n",
       "      <td>5.766193</td>\n",
       "    </tr>\n",
       "    <tr>\n",
       "      <th>site</th>\n",
       "      <td>19</td>\n",
       "      <td>0.500263</td>\n",
       "    </tr>\n",
       "    <tr>\n",
       "      <th>ft_fac_value</th>\n",
       "      <td>13</td>\n",
       "      <td>0.342285</td>\n",
       "    </tr>\n",
       "    <tr>\n",
       "      <th>ft_fac_percentile</th>\n",
       "      <td>13</td>\n",
       "      <td>0.342285</td>\n",
       "    </tr>\n",
       "    <tr>\n",
       "      <th>ft_pct</th>\n",
       "      <td>4</td>\n",
       "      <td>0.105319</td>\n",
       "    </tr>\n",
       "    <tr>\n",
       "      <th>aid_percentile</th>\n",
       "      <td>1</td>\n",
       "      <td>0.026330</td>\n",
       "    </tr>\n",
       "    <tr>\n",
       "      <th>aid_value</th>\n",
       "      <td>1</td>\n",
       "      <td>0.026330</td>\n",
       "    </tr>\n",
       "    <tr>\n",
       "      <th>pell_value</th>\n",
       "      <td>1</td>\n",
       "      <td>0.026330</td>\n",
       "    </tr>\n",
       "    <tr>\n",
       "      <th>pell_percentile</th>\n",
       "      <td>1</td>\n",
       "      <td>0.026330</td>\n",
       "    </tr>\n",
       "  </tbody>\n",
       "</table>\n",
       "</div>"
      ],
      "text/plain": [
       "                                      count          %\n",
       "flagship                               3748  98.683518\n",
       "hbcu                                   3704  97.525013\n",
       "vsa_enroll_elsewhere_after4_transfer   3528  92.890995\n",
       "vsa_grad_elsewhere_after4_transfer     3528  92.890995\n",
       "vsa_enroll_after4_transfer             3528  92.890995\n",
       "vsa_grad_after4_transfer               3528  92.890995\n",
       "vsa_grad_after6_transfer               3528  92.890995\n",
       "vsa_grad_elsewhere_after6_transfer     3528  92.890995\n",
       "vsa_enroll_after6_transfer             3528  92.890995\n",
       "vsa_enroll_elsewhere_after6_transfer   3528  92.890995\n",
       "vsa_enroll_elsewhere_after6_first      3519  92.654028\n",
       "vsa_enroll_after6_first                3519  92.654028\n",
       "vsa_grad_elsewhere_after6_first        3519  92.654028\n",
       "vsa_grad_after6_first                  3519  92.654028\n",
       "vsa_enroll_elsewhere_after4_first      3519  92.654028\n",
       "vsa_enroll_after4_first                3519  92.654028\n",
       "vsa_grad_elsewhere_after4_first        3519  92.654028\n",
       "vsa_grad_after4_first                  3519  92.654028\n",
       "vsa_year                               3519  92.654028\n",
       "nicknames                              3488  91.837809\n",
       "med_sat_value                          2461  64.797262\n",
       "med_sat_percentile                     2461  64.797262\n",
       "endow_value                            1475  38.836230\n",
       "endow_percentile                       1475  38.836230\n",
       "counted_pct                             426  11.216430\n",
       "grad_100_percentile                     331   8.715113\n",
       "grad_100_value                          331   8.715113\n",
       "cohort_size                             331   8.715113\n",
       "grad_150_value                          331   8.715113\n",
       "grad_150_percentile                     331   8.715113\n",
       "retain_value                            263   6.924697\n",
       "retain_percentile                       263   6.924697\n",
       "similar                                 219   5.766193\n",
       "site                                     19   0.500263\n",
       "ft_fac_value                             13   0.342285\n",
       "ft_fac_percentile                        13   0.342285\n",
       "ft_pct                                    4   0.105319\n",
       "aid_percentile                            1   0.026330\n",
       "aid_value                                 1   0.026330\n",
       "pell_value                                1   0.026330\n",
       "pell_percentile                           1   0.026330"
      ]
     },
     "execution_count": 8,
     "metadata": {},
     "output_type": "execute_result"
    }
   ],
   "source": [
    "#Count the number of missing values in each column, Calculate the percentages, and sort in descending order.\n",
    "#Display only values that are more than zero in counting.\n",
    "missing = pd.concat([df.isnull().sum(), 100 * df.isnull().mean()], axis=1)\n",
    "missing.columns=['count', '%']\n",
    "missing_filtered = missing[missing['count'] > 0]\n",
    "missing_filtered.sort_values(by='count', ascending=False)"
   ]
  },
  {
   "cell_type": "markdown",
   "id": "5d2e782d",
   "metadata": {},
   "source": [
    "### Missing Values by State"
   ]
  },
  {
   "cell_type": "code",
   "execution_count": 9,
   "id": "3fe8b791",
   "metadata": {},
   "outputs": [
    {
     "data": {
      "image/png": "[encoded data removed]",
      "text/plain": [
       "<Figure size 1000x600 with 1 Axes>"
      ]
     },
     "metadata": {},
     "output_type": "display_data"
    }
   ],
   "source": [
    "num_missing = df.groupby('state').apply(lambda x: x.isnull().sum())\n",
    "total_miss = num_missing.sum(axis=1).sort_values()\n",
    "plt.figure(figsize=(10,6))\n",
    "sns.barplot(x=total_miss, y=total_miss.index)\n",
    "plt.title('Missing Data by State')\n",
    "plt.xlabel('Count')\n",
    "plt.ylabel('State')\n",
    "plt.show();"
   ]
  },
  {
   "cell_type": "markdown",
   "id": "fdf964fc",
   "metadata": {},
   "source": [
    "California and New York states appear to have the highst number of missing data. Similarly, Texas, Pennsylvannia, Florida, and Ohio have significant data missing."
   ]
  },
  {
   "cell_type": "markdown",
   "id": "1043e0ec",
   "metadata": {},
   "source": [
    "In the dataset, there appear to be very few ‘*flagship and HBCU*’ institutions. These two columns will be populated with ‘*no*’ to indicate that they do not belong to the corresponding category. Similarly, it is possible that only a few students transferred after 4 or 6 years. However, due to the limited information provided about the dataset, confirmation is impossible. Consequently, I will drop these columns since they contain substantial amounts of missing data. For the ‘*site*’ column, missing values will be filled with the label ‘*no site*.’ Additionally, I will also exclude the ‘*nicknames*’ column, as it does not contribute to the project goal. Finally, I’ll impute missing values in the following features using their mean values: *ft_fac_value, ft_fac_percentile, ft_pct, aid_percentile, aid_value, pell_value, and pell_percentile*."
   ]
  },
  {
   "cell_type": "markdown",
   "id": "fac70bf9",
   "metadata": {},
   "source": [
    "### Dropping columns"
   ]
  },
  {
   "cell_type": "code",
   "execution_count": 10,
   "id": "d9da58f4",
   "metadata": {},
   "outputs": [],
   "source": [
    "#Remove column 'nicknames'\n",
    "df.drop(['nicknames'], inplace =True, axis=1)"
   ]
  },
  {
   "cell_type": "markdown",
   "id": "5ed5bdef",
   "metadata": {},
   "source": [
    "**- Dropping some of the columns with more than 90 percent of data missing.**"
   ]
  },
  {
   "cell_type": "code",
   "execution_count": 11,
   "id": "b4d6617e",
   "metadata": {},
   "outputs": [],
   "source": [
    "cols_1 = ['vsa_enroll_elsewhere_after4_transfer','vsa_grad_elsewhere_after4_transfer',\n",
    "           'vsa_enroll_after4_transfer','vsa_grad_after4_transfer','vsa_grad_after6_transfer',\n",
    "           'vsa_grad_elsewhere_after6_transfer','vsa_enroll_after6_transfer','vsa_enroll_elsewhere_after6_transfer',\n",
    "           'vsa_enroll_elsewhere_after6_first','vsa_enroll_after6_first','vsa_grad_elsewhere_after6_first',\n",
    "           'vsa_grad_after6_first','vsa_enroll_elsewhere_after4_first','vsa_enroll_after4_first',\n",
    "           'vsa_grad_elsewhere_after4_first','vsa_grad_after4_first','vsa_year']\n",
    "df = df.drop(columns=cols_1)"
   ]
  },
  {
   "cell_type": "markdown",
   "id": "4bbaa6a5",
   "metadata": {},
   "source": [
    "**- Some of the columns are represented in two formats: as raw and as percentages. The percentage features are dropped.**"
   ]
  },
  {
   "cell_type": "code",
   "execution_count": 12,
   "id": "a9ed8dc9",
   "metadata": {},
   "outputs": [
    {
     "name": "stdout",
     "output_type": "stream",
     "text": [
      "Index(['unitid', 'chronname', 'city', 'state', 'level', 'control', 'basic',\n",
      "       'hbcu', 'flagship', 'long_x', 'lat_y', 'site', 'student_count',\n",
      "       'awards_per_value', 'awards_per_state_value', 'awards_per_natl_value',\n",
      "       'exp_award_value', 'exp_award_state_value', 'exp_award_natl_value',\n",
      "       'ft_pct', 'fte_value', 'med_sat_value', 'aid_value', 'endow_value',\n",
      "       'grad_100_value', 'grad_150_value', 'pell_value', 'retain_value',\n",
      "       'ft_fac_value', 'similar', 'state_sector_ct', 'carnegie_ct',\n",
      "       'counted_pct', 'cohort_size'],\n",
      "      dtype='object')\n"
     ]
    }
   ],
   "source": [
    "cols_2 =['exp_award_percentile', 'fte_percentile', 'med_sat_percentile', 'aid_percentile', \n",
    "         'endow_percentile', 'grad_100_percentile', 'grad_150_percentile', 'pell_percentile', 'retain_percentile', \n",
    "         'ft_fac_percentile']\n",
    "df = df.drop(columns=cols_2)\n",
    "print(df.columns)"
   ]
  },
  {
   "cell_type": "markdown",
   "id": "37f9d708",
   "metadata": {},
   "source": [
    "### Creating a new column"
   ]
  },
  {
   "cell_type": "code",
   "execution_count": 13,
   "id": "0407f29d",
   "metadata": {},
   "outputs": [
    {
     "data": {
      "text/plain": [
       "0       232937|100724|405997|113607|139533|144005|2285...\n",
       "1       196060|180461|201885|145600|209542|236939|1268...\n",
       "2       217925|441511|205124|247825|197647|221856|1353...\n",
       "3       232186|133881|196103|196413|207388|171128|1900...\n",
       "4       100654|232937|242617|243197|144005|241739|2354...\n",
       "                              ...                        \n",
       "3793                                                  NaN\n",
       "3794                                                  NaN\n",
       "3795                                                  NaN\n",
       "3796                                                  NaN\n",
       "3797                                                  NaN\n",
       "Name: similar, Length: 3798, dtype: object"
      ]
     },
     "execution_count": 13,
     "metadata": {},
     "output_type": "execute_result"
    }
   ],
   "source": [
    "df['similar']"
   ]
  },
  {
   "cell_type": "code",
   "execution_count": 14,
   "id": "f6f4de43",
   "metadata": {},
   "outputs": [
    {
     "name": "stdout",
     "output_type": "stream",
     "text": [
      "0       20.0\n",
      "1       20.0\n",
      "2       20.0\n",
      "3       20.0\n",
      "4       20.0\n",
      "        ... \n",
      "3793     NaN\n",
      "3794     NaN\n",
      "3795     NaN\n",
      "3796     NaN\n",
      "3797     NaN\n",
      "Name: num_similar, Length: 3798, dtype: float64\n"
     ]
    }
   ],
   "source": [
    "#Count the number of values separated by '|'\n",
    "#enter the count as a new column 'num_similar' indicating similar institutions\n",
    "df['num_similar'] = df['similar'].apply(lambda x: len(x.split('|')) if pd.notna(x) else None)\n",
    "print(df['num_similar'])"
   ]
  },
  {
   "cell_type": "code",
   "execution_count": 15,
   "id": "2f41a235",
   "metadata": {},
   "outputs": [
    {
     "data": {
      "text/plain": [
       "219"
      ]
     },
     "execution_count": 15,
     "metadata": {},
     "output_type": "execute_result"
    }
   ],
   "source": [
    "#Count the number of missing values in the new df['num_similar'] column.\n",
    "df['num_similar'].isna().sum()"
   ]
  },
  {
   "cell_type": "code",
   "execution_count": 16,
   "id": "ab2fdf53",
   "metadata": {},
   "outputs": [],
   "source": [
    "#Drop the df['similar'] column from the DataFrame\n",
    "df.drop(columns=['similar'], inplace=True)"
   ]
  },
  {
   "cell_type": "markdown",
   "id": "7cce6543",
   "metadata": {},
   "source": [
    "**Visualize the Missing Data**"
   ]
  },
  {
   "cell_type": "code",
   "execution_count": 17,
   "id": "ef60d569",
   "metadata": {},
   "outputs": [
    {
     "data": {
      "image/png": "[encoded data removed]",
      "text/plain": [
       "<Figure size 1000x600 with 2 Axes>"
      ]
     },
     "metadata": {},
     "output_type": "display_data"
    }
   ],
   "source": [
    "#Get the sum of missing values\n",
    "miss_2 = df.isnull().sum()\n",
    "miss_2filtered = miss_2[miss_2 > 0]\n",
    "#Convert the Series into a DataFrame\n",
    "miss_df = pd.DataFrame({'Missing Count': miss_2filtered})\n",
    "#Visualize the heatmap of missing data\n",
    "plt.figure(figsize=(10,6))\n",
    "sns.heatmap(miss_df.T, cbar_kws={'label': 'Missing Count'})\n",
    "plt.title('Missing Data Heatmap')\n",
    "plt.show();"
   ]
  },
  {
   "cell_type": "code",
   "execution_count": 18,
   "id": "9e710cf1",
   "metadata": {},
   "outputs": [],
   "source": [
    "df.fillna({'hbcu': 'no', 'flagship': 'no'}, inplace=True)"
   ]
  },
  {
   "cell_type": "code",
   "execution_count": 19,
   "id": "c484c919",
   "metadata": {},
   "outputs": [
    {
     "data": {
      "text/html": [
       "<div>\n",
       "<style scoped>\n",
       "    .dataframe tbody tr th:only-of-type {\n",
       "        vertical-align: middle;\n",
       "    }\n",
       "\n",
       "    .dataframe tbody tr th {\n",
       "        vertical-align: top;\n",
       "    }\n",
       "\n",
       "    .dataframe thead th {\n",
       "        text-align: right;\n",
       "    }\n",
       "</style>\n",
       "<table border=\"1\" class=\"dataframe\">\n",
       "  <thead>\n",
       "    <tr style=\"text-align: right;\">\n",
       "      <th></th>\n",
       "      <th>count</th>\n",
       "      <th>%</th>\n",
       "    </tr>\n",
       "  </thead>\n",
       "  <tbody>\n",
       "    <tr>\n",
       "      <th>med_sat_value</th>\n",
       "      <td>2461</td>\n",
       "      <td>64.797262</td>\n",
       "    </tr>\n",
       "    <tr>\n",
       "      <th>endow_value</th>\n",
       "      <td>1475</td>\n",
       "      <td>38.836230</td>\n",
       "    </tr>\n",
       "    <tr>\n",
       "      <th>counted_pct</th>\n",
       "      <td>426</td>\n",
       "      <td>11.216430</td>\n",
       "    </tr>\n",
       "    <tr>\n",
       "      <th>grad_100_value</th>\n",
       "      <td>331</td>\n",
       "      <td>8.715113</td>\n",
       "    </tr>\n",
       "    <tr>\n",
       "      <th>grad_150_value</th>\n",
       "      <td>331</td>\n",
       "      <td>8.715113</td>\n",
       "    </tr>\n",
       "    <tr>\n",
       "      <th>cohort_size</th>\n",
       "      <td>331</td>\n",
       "      <td>8.715113</td>\n",
       "    </tr>\n",
       "    <tr>\n",
       "      <th>retain_value</th>\n",
       "      <td>263</td>\n",
       "      <td>6.924697</td>\n",
       "    </tr>\n",
       "    <tr>\n",
       "      <th>num_similar</th>\n",
       "      <td>219</td>\n",
       "      <td>5.766193</td>\n",
       "    </tr>\n",
       "    <tr>\n",
       "      <th>site</th>\n",
       "      <td>19</td>\n",
       "      <td>0.500263</td>\n",
       "    </tr>\n",
       "    <tr>\n",
       "      <th>ft_fac_value</th>\n",
       "      <td>13</td>\n",
       "      <td>0.342285</td>\n",
       "    </tr>\n",
       "    <tr>\n",
       "      <th>ft_pct</th>\n",
       "      <td>4</td>\n",
       "      <td>0.105319</td>\n",
       "    </tr>\n",
       "    <tr>\n",
       "      <th>aid_value</th>\n",
       "      <td>1</td>\n",
       "      <td>0.026330</td>\n",
       "    </tr>\n",
       "    <tr>\n",
       "      <th>pell_value</th>\n",
       "      <td>1</td>\n",
       "      <td>0.026330</td>\n",
       "    </tr>\n",
       "  </tbody>\n",
       "</table>\n",
       "</div>"
      ],
      "text/plain": [
       "                count          %\n",
       "med_sat_value    2461  64.797262\n",
       "endow_value      1475  38.836230\n",
       "counted_pct       426  11.216430\n",
       "grad_100_value    331   8.715113\n",
       "grad_150_value    331   8.715113\n",
       "cohort_size       331   8.715113\n",
       "retain_value      263   6.924697\n",
       "num_similar       219   5.766193\n",
       "site               19   0.500263\n",
       "ft_fac_value       13   0.342285\n",
       "ft_pct              4   0.105319\n",
       "aid_value           1   0.026330\n",
       "pell_value          1   0.026330"
      ]
     },
     "execution_count": 19,
     "metadata": {},
     "output_type": "execute_result"
    }
   ],
   "source": [
    "#Count the number of missing values in each column, Calculate the percentages, and sort in descending order.\n",
    "#Display only values that are more than zero in counting.\n",
    "nulls = pd.concat([df.isnull().sum(), 100 * df.isnull().mean()], axis=1)\n",
    "nulls.columns=['count', '%']\n",
    "missing_filtered = nulls[nulls['count'] > 0]\n",
    "missing_filtered.sort_values(by='count', ascending=False)"
   ]
  },
  {
   "cell_type": "code",
   "execution_count": 20,
   "id": "460b4283",
   "metadata": {},
   "outputs": [
    {
     "name": "stdout",
     "output_type": "stream",
     "text": [
      "(3798, 30)\n"
     ]
    }
   ],
   "source": [
    "#Exclude some features from the dataframe\n",
    "features_to_exclude = ['unitid', 'long_x', 'lat_y', 'site']\n",
    "\n",
    "#Create a new DataFrame\n",
    "data_filtered = df.drop(columns=features_to_exclude)\n",
    "print(data_filtered.shape)"
   ]
  },
  {
   "cell_type": "code",
   "execution_count": 21,
   "id": "473ec8a1",
   "metadata": {},
   "outputs": [],
   "source": [
    "#Saving the dataset as a csv file in the directory\n",
    "data_filtered.to_csv('collegedata.csv', index=False)"
   ]
  },
  {
   "cell_type": "code",
   "execution_count": null,
   "id": "568b19fa",
   "metadata": {},
   "outputs": [],
   "source": []
  }
 ],
 "metadata": {
  "kernelspec": {
   "display_name": "Python 3 (ipykernel)",
   "language": "python",
   "name": "python3"
  },
  "language_info": {
   "codemirror_mode": {
    "name": "ipython",
    "version": 3
   },
   "file_extension": ".py",
   "mimetype": "text/x-python",
   "name": "python",
   "nbconvert_exporter": "python",
   "pygments_lexer": "ipython3",
   "version": "3.11.7"
  }
 },
 "nbformat": 4,
 "nbformat_minor": 5
}
